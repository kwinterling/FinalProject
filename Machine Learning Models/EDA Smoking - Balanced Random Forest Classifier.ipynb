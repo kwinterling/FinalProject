{
 "cells": [
  {
   "cell_type": "code",
   "execution_count": 1,
   "id": "a210a9c4",
   "metadata": {},
   "outputs": [],
   "source": [
    "# Import our dependencies\n",
    "from sklearn.model_selection import train_test_split\n",
    "from sklearn.preprocessing import StandardScaler,OneHotEncoder\n",
    "import pandas as pd\n",
    "from pathlib import Path\n",
    "\n",
    "from sklearn.metrics import balanced_accuracy_score\n",
    "from sklearn.metrics import confusion_matrix\n",
    "from imblearn.metrics import classification_report_imbalanced"
   ]
  },
  {
   "cell_type": "code",
   "execution_count": 2,
   "id": "9da50d97",
   "metadata": {},
   "outputs": [
    {
     "data": {
      "text/html": [
       "<div>\n",
       "<style scoped>\n",
       "    .dataframe tbody tr th:only-of-type {\n",
       "        vertical-align: middle;\n",
       "    }\n",
       "\n",
       "    .dataframe tbody tr th {\n",
       "        vertical-align: top;\n",
       "    }\n",
       "\n",
       "    .dataframe thead th {\n",
       "        text-align: right;\n",
       "    }\n",
       "</style>\n",
       "<table border=\"1\" class=\"dataframe\">\n",
       "  <thead>\n",
       "    <tr style=\"text-align: right;\">\n",
       "      <th></th>\n",
       "      <th>Unnamed: 0</th>\n",
       "      <th>age</th>\n",
       "      <th>weight(kg)</th>\n",
       "      <th>systolic</th>\n",
       "      <th>relaxation</th>\n",
       "      <th>fasting blood sugar</th>\n",
       "      <th>Cholesterol</th>\n",
       "      <th>triglyceride</th>\n",
       "      <th>HDL</th>\n",
       "      <th>LDL</th>\n",
       "      <th>hemoglobin</th>\n",
       "      <th>Urine protein</th>\n",
       "      <th>serum creatinine</th>\n",
       "      <th>AST</th>\n",
       "      <th>ALT</th>\n",
       "      <th>Gtp</th>\n",
       "      <th>dental caries</th>\n",
       "      <th>smoking</th>\n",
       "    </tr>\n",
       "  </thead>\n",
       "  <tbody>\n",
       "    <tr>\n",
       "      <th>0</th>\n",
       "      <td>0</td>\n",
       "      <td>35</td>\n",
       "      <td>85</td>\n",
       "      <td>118</td>\n",
       "      <td>78</td>\n",
       "      <td>97</td>\n",
       "      <td>239</td>\n",
       "      <td>153</td>\n",
       "      <td>70</td>\n",
       "      <td>142</td>\n",
       "      <td>19.8</td>\n",
       "      <td>1</td>\n",
       "      <td>1.0</td>\n",
       "      <td>61</td>\n",
       "      <td>115</td>\n",
       "      <td>125</td>\n",
       "      <td>1</td>\n",
       "      <td>1</td>\n",
       "    </tr>\n",
       "    <tr>\n",
       "      <th>1</th>\n",
       "      <td>1</td>\n",
       "      <td>20</td>\n",
       "      <td>110</td>\n",
       "      <td>119</td>\n",
       "      <td>79</td>\n",
       "      <td>88</td>\n",
       "      <td>211</td>\n",
       "      <td>128</td>\n",
       "      <td>71</td>\n",
       "      <td>114</td>\n",
       "      <td>15.9</td>\n",
       "      <td>1</td>\n",
       "      <td>1.1</td>\n",
       "      <td>19</td>\n",
       "      <td>25</td>\n",
       "      <td>30</td>\n",
       "      <td>1</td>\n",
       "      <td>0</td>\n",
       "    </tr>\n",
       "    <tr>\n",
       "      <th>2</th>\n",
       "      <td>2</td>\n",
       "      <td>45</td>\n",
       "      <td>65</td>\n",
       "      <td>110</td>\n",
       "      <td>80</td>\n",
       "      <td>80</td>\n",
       "      <td>193</td>\n",
       "      <td>120</td>\n",
       "      <td>57</td>\n",
       "      <td>112</td>\n",
       "      <td>13.7</td>\n",
       "      <td>3</td>\n",
       "      <td>0.6</td>\n",
       "      <td>1090</td>\n",
       "      <td>1400</td>\n",
       "      <td>276</td>\n",
       "      <td>0</td>\n",
       "      <td>0</td>\n",
       "    </tr>\n",
       "    <tr>\n",
       "      <th>3</th>\n",
       "      <td>3</td>\n",
       "      <td>45</td>\n",
       "      <td>80</td>\n",
       "      <td>158</td>\n",
       "      <td>88</td>\n",
       "      <td>249</td>\n",
       "      <td>210</td>\n",
       "      <td>366</td>\n",
       "      <td>46</td>\n",
       "      <td>91</td>\n",
       "      <td>16.9</td>\n",
       "      <td>1</td>\n",
       "      <td>0.9</td>\n",
       "      <td>32</td>\n",
       "      <td>36</td>\n",
       "      <td>36</td>\n",
       "      <td>0</td>\n",
       "      <td>0</td>\n",
       "    </tr>\n",
       "    <tr>\n",
       "      <th>4</th>\n",
       "      <td>4</td>\n",
       "      <td>20</td>\n",
       "      <td>60</td>\n",
       "      <td>109</td>\n",
       "      <td>64</td>\n",
       "      <td>100</td>\n",
       "      <td>179</td>\n",
       "      <td>200</td>\n",
       "      <td>47</td>\n",
       "      <td>92</td>\n",
       "      <td>14.9</td>\n",
       "      <td>1</td>\n",
       "      <td>1.2</td>\n",
       "      <td>26</td>\n",
       "      <td>28</td>\n",
       "      <td>15</td>\n",
       "      <td>0</td>\n",
       "      <td>0</td>\n",
       "    </tr>\n",
       "  </tbody>\n",
       "</table>\n",
       "</div>"
      ],
      "text/plain": [
       "   Unnamed: 0  age  weight(kg)  systolic  relaxation  fasting blood sugar  \\\n",
       "0           0   35          85       118          78                   97   \n",
       "1           1   20         110       119          79                   88   \n",
       "2           2   45          65       110          80                   80   \n",
       "3           3   45          80       158          88                  249   \n",
       "4           4   20          60       109          64                  100   \n",
       "\n",
       "   Cholesterol  triglyceride  HDL  LDL  hemoglobin  Urine protein  \\\n",
       "0          239           153   70  142        19.8              1   \n",
       "1          211           128   71  114        15.9              1   \n",
       "2          193           120   57  112        13.7              3   \n",
       "3          210           366   46   91        16.9              1   \n",
       "4          179           200   47   92        14.9              1   \n",
       "\n",
       "   serum creatinine   AST   ALT  Gtp  dental caries  smoking  \n",
       "0               1.0    61   115  125              1        1  \n",
       "1               1.1    19    25   30              1        0  \n",
       "2               0.6  1090  1400  276              0        0  \n",
       "3               0.9    32    36   36              0        0  \n",
       "4               1.2    26    28   15              0        0  "
      ]
     },
     "execution_count": 2,
     "metadata": {},
     "output_type": "execute_result"
    }
   ],
   "source": [
    "# Load the data\n",
    "file_path = Path('C:/Users/jyots/ucb/hw/final/Resources/smoker_dataset_cleaned.csv')\n",
    "df = pd.read_csv(file_path)\n",
    "\n",
    "\n",
    "df.head()"
   ]
  },
  {
   "cell_type": "code",
   "execution_count": 3,
   "id": "26996a62",
   "metadata": {},
   "outputs": [
    {
     "data": {
      "text/plain": [
       "Unnamed: 0               int64\n",
       "age                      int64\n",
       "weight(kg)               int64\n",
       "systolic                 int64\n",
       "relaxation               int64\n",
       "fasting blood sugar      int64\n",
       "Cholesterol              int64\n",
       "triglyceride             int64\n",
       "HDL                      int64\n",
       "LDL                      int64\n",
       "hemoglobin             float64\n",
       "Urine protein            int64\n",
       "serum creatinine       float64\n",
       "AST                      int64\n",
       "ALT                      int64\n",
       "Gtp                      int64\n",
       "dental caries            int64\n",
       "smoking                  int64\n",
       "dtype: object"
      ]
     },
     "execution_count": 3,
     "metadata": {},
     "output_type": "execute_result"
    }
   ],
   "source": [
    "df.dtypes"
   ]
  },
  {
   "cell_type": "code",
   "execution_count": 4,
   "id": "ac3d0643",
   "metadata": {
    "scrolled": true
   },
   "outputs": [],
   "source": [
    "new_df = df"
   ]
  },
  {
   "cell_type": "code",
   "execution_count": 5,
   "id": "3fd2c4a9",
   "metadata": {},
   "outputs": [],
   "source": [
    "X = new_df.drop(columns=\"smoking\")\n",
    "y = pd.DataFrame(new_df[\"smoking\"])"
   ]
  },
  {
   "cell_type": "code",
   "execution_count": 6,
   "id": "366c8830",
   "metadata": {},
   "outputs": [
    {
     "data": {
      "text/html": [
       "<div>\n",
       "<style scoped>\n",
       "    .dataframe tbody tr th:only-of-type {\n",
       "        vertical-align: middle;\n",
       "    }\n",
       "\n",
       "    .dataframe tbody tr th {\n",
       "        vertical-align: top;\n",
       "    }\n",
       "\n",
       "    .dataframe thead th {\n",
       "        text-align: right;\n",
       "    }\n",
       "</style>\n",
       "<table border=\"1\" class=\"dataframe\">\n",
       "  <thead>\n",
       "    <tr style=\"text-align: right;\">\n",
       "      <th></th>\n",
       "      <th>Unnamed: 0</th>\n",
       "      <th>age</th>\n",
       "      <th>weight(kg)</th>\n",
       "      <th>systolic</th>\n",
       "      <th>relaxation</th>\n",
       "      <th>fasting blood sugar</th>\n",
       "      <th>Cholesterol</th>\n",
       "      <th>triglyceride</th>\n",
       "      <th>HDL</th>\n",
       "      <th>LDL</th>\n",
       "      <th>hemoglobin</th>\n",
       "      <th>Urine protein</th>\n",
       "      <th>serum creatinine</th>\n",
       "      <th>AST</th>\n",
       "      <th>ALT</th>\n",
       "      <th>Gtp</th>\n",
       "      <th>dental caries</th>\n",
       "    </tr>\n",
       "  </thead>\n",
       "  <tbody>\n",
       "    <tr>\n",
       "      <th>count</th>\n",
       "      <td>38984.000000</td>\n",
       "      <td>38984.000000</td>\n",
       "      <td>38984.000000</td>\n",
       "      <td>38984.000000</td>\n",
       "      <td>38984.000000</td>\n",
       "      <td>38984.000000</td>\n",
       "      <td>38984.000000</td>\n",
       "      <td>38984.000000</td>\n",
       "      <td>38984.000000</td>\n",
       "      <td>38984.000000</td>\n",
       "      <td>38984.000000</td>\n",
       "      <td>38984.000000</td>\n",
       "      <td>38984.000000</td>\n",
       "      <td>38984.000000</td>\n",
       "      <td>38984.000000</td>\n",
       "      <td>38984.000000</td>\n",
       "      <td>38984.000000</td>\n",
       "    </tr>\n",
       "    <tr>\n",
       "      <th>mean</th>\n",
       "      <td>19491.500000</td>\n",
       "      <td>44.127591</td>\n",
       "      <td>65.938718</td>\n",
       "      <td>121.475631</td>\n",
       "      <td>75.994408</td>\n",
       "      <td>99.342269</td>\n",
       "      <td>196.883491</td>\n",
       "      <td>126.749461</td>\n",
       "      <td>57.293146</td>\n",
       "      <td>115.081495</td>\n",
       "      <td>14.624264</td>\n",
       "      <td>1.086523</td>\n",
       "      <td>0.886030</td>\n",
       "      <td>26.198235</td>\n",
       "      <td>27.145188</td>\n",
       "      <td>39.905038</td>\n",
       "      <td>0.214421</td>\n",
       "    </tr>\n",
       "    <tr>\n",
       "      <th>std</th>\n",
       "      <td>11253.855784</td>\n",
       "      <td>12.063564</td>\n",
       "      <td>12.896581</td>\n",
       "      <td>13.643521</td>\n",
       "      <td>9.658734</td>\n",
       "      <td>20.642741</td>\n",
       "      <td>36.353945</td>\n",
       "      <td>71.803143</td>\n",
       "      <td>14.617822</td>\n",
       "      <td>42.883163</td>\n",
       "      <td>1.566528</td>\n",
       "      <td>0.402107</td>\n",
       "      <td>0.220621</td>\n",
       "      <td>19.175595</td>\n",
       "      <td>31.309945</td>\n",
       "      <td>49.693843</td>\n",
       "      <td>0.410426</td>\n",
       "    </tr>\n",
       "    <tr>\n",
       "      <th>min</th>\n",
       "      <td>0.000000</td>\n",
       "      <td>20.000000</td>\n",
       "      <td>30.000000</td>\n",
       "      <td>71.000000</td>\n",
       "      <td>40.000000</td>\n",
       "      <td>46.000000</td>\n",
       "      <td>55.000000</td>\n",
       "      <td>8.000000</td>\n",
       "      <td>4.000000</td>\n",
       "      <td>1.000000</td>\n",
       "      <td>4.900000</td>\n",
       "      <td>1.000000</td>\n",
       "      <td>0.100000</td>\n",
       "      <td>6.000000</td>\n",
       "      <td>1.000000</td>\n",
       "      <td>2.000000</td>\n",
       "      <td>0.000000</td>\n",
       "    </tr>\n",
       "    <tr>\n",
       "      <th>25%</th>\n",
       "      <td>9745.750000</td>\n",
       "      <td>40.000000</td>\n",
       "      <td>55.000000</td>\n",
       "      <td>112.000000</td>\n",
       "      <td>70.000000</td>\n",
       "      <td>89.000000</td>\n",
       "      <td>172.000000</td>\n",
       "      <td>74.000000</td>\n",
       "      <td>47.000000</td>\n",
       "      <td>91.000000</td>\n",
       "      <td>13.600000</td>\n",
       "      <td>1.000000</td>\n",
       "      <td>0.800000</td>\n",
       "      <td>19.000000</td>\n",
       "      <td>15.000000</td>\n",
       "      <td>17.000000</td>\n",
       "      <td>0.000000</td>\n",
       "    </tr>\n",
       "    <tr>\n",
       "      <th>50%</th>\n",
       "      <td>19491.500000</td>\n",
       "      <td>40.000000</td>\n",
       "      <td>65.000000</td>\n",
       "      <td>120.000000</td>\n",
       "      <td>76.000000</td>\n",
       "      <td>96.000000</td>\n",
       "      <td>195.000000</td>\n",
       "      <td>108.000000</td>\n",
       "      <td>55.000000</td>\n",
       "      <td>113.000000</td>\n",
       "      <td>14.800000</td>\n",
       "      <td>1.000000</td>\n",
       "      <td>0.900000</td>\n",
       "      <td>23.000000</td>\n",
       "      <td>21.000000</td>\n",
       "      <td>26.000000</td>\n",
       "      <td>0.000000</td>\n",
       "    </tr>\n",
       "    <tr>\n",
       "      <th>75%</th>\n",
       "      <td>29237.250000</td>\n",
       "      <td>55.000000</td>\n",
       "      <td>75.000000</td>\n",
       "      <td>130.000000</td>\n",
       "      <td>82.000000</td>\n",
       "      <td>104.000000</td>\n",
       "      <td>219.000000</td>\n",
       "      <td>160.000000</td>\n",
       "      <td>66.000000</td>\n",
       "      <td>136.000000</td>\n",
       "      <td>15.800000</td>\n",
       "      <td>1.000000</td>\n",
       "      <td>1.000000</td>\n",
       "      <td>29.000000</td>\n",
       "      <td>31.000000</td>\n",
       "      <td>44.000000</td>\n",
       "      <td>0.000000</td>\n",
       "    </tr>\n",
       "    <tr>\n",
       "      <th>max</th>\n",
       "      <td>38983.000000</td>\n",
       "      <td>85.000000</td>\n",
       "      <td>135.000000</td>\n",
       "      <td>233.000000</td>\n",
       "      <td>146.000000</td>\n",
       "      <td>423.000000</td>\n",
       "      <td>445.000000</td>\n",
       "      <td>999.000000</td>\n",
       "      <td>359.000000</td>\n",
       "      <td>1860.000000</td>\n",
       "      <td>21.100000</td>\n",
       "      <td>6.000000</td>\n",
       "      <td>11.600000</td>\n",
       "      <td>1090.000000</td>\n",
       "      <td>2914.000000</td>\n",
       "      <td>999.000000</td>\n",
       "      <td>1.000000</td>\n",
       "    </tr>\n",
       "  </tbody>\n",
       "</table>\n",
       "</div>"
      ],
      "text/plain": [
       "         Unnamed: 0           age    weight(kg)      systolic    relaxation  \\\n",
       "count  38984.000000  38984.000000  38984.000000  38984.000000  38984.000000   \n",
       "mean   19491.500000     44.127591     65.938718    121.475631     75.994408   \n",
       "std    11253.855784     12.063564     12.896581     13.643521      9.658734   \n",
       "min        0.000000     20.000000     30.000000     71.000000     40.000000   \n",
       "25%     9745.750000     40.000000     55.000000    112.000000     70.000000   \n",
       "50%    19491.500000     40.000000     65.000000    120.000000     76.000000   \n",
       "75%    29237.250000     55.000000     75.000000    130.000000     82.000000   \n",
       "max    38983.000000     85.000000    135.000000    233.000000    146.000000   \n",
       "\n",
       "       fasting blood sugar   Cholesterol  triglyceride           HDL  \\\n",
       "count         38984.000000  38984.000000  38984.000000  38984.000000   \n",
       "mean             99.342269    196.883491    126.749461     57.293146   \n",
       "std              20.642741     36.353945     71.803143     14.617822   \n",
       "min              46.000000     55.000000      8.000000      4.000000   \n",
       "25%              89.000000    172.000000     74.000000     47.000000   \n",
       "50%              96.000000    195.000000    108.000000     55.000000   \n",
       "75%             104.000000    219.000000    160.000000     66.000000   \n",
       "max             423.000000    445.000000    999.000000    359.000000   \n",
       "\n",
       "                LDL    hemoglobin  Urine protein  serum creatinine  \\\n",
       "count  38984.000000  38984.000000   38984.000000      38984.000000   \n",
       "mean     115.081495     14.624264       1.086523          0.886030   \n",
       "std       42.883163      1.566528       0.402107          0.220621   \n",
       "min        1.000000      4.900000       1.000000          0.100000   \n",
       "25%       91.000000     13.600000       1.000000          0.800000   \n",
       "50%      113.000000     14.800000       1.000000          0.900000   \n",
       "75%      136.000000     15.800000       1.000000          1.000000   \n",
       "max     1860.000000     21.100000       6.000000         11.600000   \n",
       "\n",
       "                AST           ALT           Gtp  dental caries  \n",
       "count  38984.000000  38984.000000  38984.000000   38984.000000  \n",
       "mean      26.198235     27.145188     39.905038       0.214421  \n",
       "std       19.175595     31.309945     49.693843       0.410426  \n",
       "min        6.000000      1.000000      2.000000       0.000000  \n",
       "25%       19.000000     15.000000     17.000000       0.000000  \n",
       "50%       23.000000     21.000000     26.000000       0.000000  \n",
       "75%       29.000000     31.000000     44.000000       0.000000  \n",
       "max     1090.000000   2914.000000    999.000000       1.000000  "
      ]
     },
     "execution_count": 6,
     "metadata": {},
     "output_type": "execute_result"
    }
   ],
   "source": [
    "X.describe()"
   ]
  },
  {
   "cell_type": "code",
   "execution_count": 7,
   "id": "f2c0cb47",
   "metadata": {},
   "outputs": [
    {
     "data": {
      "text/plain": [
       "0    24666\n",
       "1    14318\n",
       "Name: smoking, dtype: int64"
      ]
     },
     "execution_count": 7,
     "metadata": {},
     "output_type": "execute_result"
    }
   ],
   "source": [
    "y['smoking'].value_counts()"
   ]
  },
  {
   "cell_type": "code",
   "execution_count": 8,
   "id": "1d15e1b7",
   "metadata": {},
   "outputs": [
    {
     "data": {
      "text/plain": [
       "(29238, 17)"
      ]
     },
     "execution_count": 8,
     "metadata": {},
     "output_type": "execute_result"
    }
   ],
   "source": [
    "from collections import Counter\n",
    "from sklearn.model_selection import train_test_split\n",
    "\n",
    "X_train, X_test, y_train, y_test = train_test_split(X, \n",
    "                                                    y, \n",
    "                                                    random_state=1)\n",
    "X_train.shape"
   ]
  },
  {
   "cell_type": "code",
   "execution_count": 9,
   "id": "6a6b9933",
   "metadata": {},
   "outputs": [
    {
     "name": "stdout",
     "output_type": "stream",
     "text": [
      "(29238, 17)\n",
      "(9746, 17)\n",
      "(29238, 1)\n",
      "(9746, 1)\n"
     ]
    }
   ],
   "source": [
    "print(X_train.shape)\n",
    "print(X_test.shape)\n",
    "print(y_train.shape)\n",
    "print(y_test.shape)"
   ]
  },
  {
   "cell_type": "code",
   "execution_count": 10,
   "id": "b2640752",
   "metadata": {},
   "outputs": [
    {
     "data": {
      "text/plain": [
       "Counter({'smoking': 1})"
      ]
     },
     "execution_count": 10,
     "metadata": {},
     "output_type": "execute_result"
    }
   ],
   "source": [
    "Counter(y_train)"
   ]
  },
  {
   "cell_type": "code",
   "execution_count": 11,
   "id": "f6d45211",
   "metadata": {},
   "outputs": [],
   "source": [
    "from imblearn.ensemble import BalancedRandomForestClassifier\n",
    "from sklearn.datasets import make_classification"
   ]
  },
  {
   "cell_type": "code",
   "execution_count": 12,
   "id": "189d67b3",
   "metadata": {},
   "outputs": [
    {
     "data": {
      "text/plain": [
       "BalancedRandomForestClassifier(random_state=0)"
      ]
     },
     "execution_count": 12,
     "metadata": {},
     "output_type": "execute_result"
    }
   ],
   "source": [
    "from imblearn.ensemble import BalancedRandomForestClassifier\n",
    "brf = BalancedRandomForestClassifier(n_estimators=100, random_state=0)\n",
    "brf"
   ]
  },
  {
   "cell_type": "code",
   "execution_count": 13,
   "id": "32591810",
   "metadata": {},
   "outputs": [
    {
     "name": "stderr",
     "output_type": "stream",
     "text": [
      "C:\\Users\\jyots\\anaconda3\\envs\\mlenv\\lib\\site-packages\\ipykernel_launcher.py:1: DataConversionWarning: A column-vector y was passed when a 1d array was expected. Please change the shape of y to (n_samples,), for example using ravel().\n",
      "  \"\"\"Entry point for launching an IPython kernel.\n"
     ]
    }
   ],
   "source": [
    "brf.fit(X_train, y_train)\n",
    "y_pred = brf.predict(X_test)"
   ]
  },
  {
   "cell_type": "code",
   "execution_count": 14,
   "id": "12e57714",
   "metadata": {},
   "outputs": [
    {
     "data": {
      "text/plain": [
       "array([0, 1, 1, ..., 0, 1, 0], dtype=int64)"
      ]
     },
     "execution_count": 14,
     "metadata": {},
     "output_type": "execute_result"
    }
   ],
   "source": [
    "# Calculated the balanced accuracy score\n",
    "from sklearn.metrics import balanced_accuracy_score\n",
    "y_pred = brf.predict(X_test)\n",
    "y_pred"
   ]
  },
  {
   "cell_type": "code",
   "execution_count": 15,
   "id": "480a543b",
   "metadata": {},
   "outputs": [
    {
     "data": {
      "text/plain": [
       "0.7801672225057765"
      ]
     },
     "execution_count": 15,
     "metadata": {},
     "output_type": "execute_result"
    }
   ],
   "source": [
    "balanced_accuracy_score(y_test, y_pred)"
   ]
  },
  {
   "cell_type": "code",
   "execution_count": 16,
   "id": "187ffb80",
   "metadata": {},
   "outputs": [
    {
     "data": {
      "text/plain": [
       "array([[4447, 1745],\n",
       "       [ 561, 2993]], dtype=int64)"
      ]
     },
     "execution_count": 16,
     "metadata": {},
     "output_type": "execute_result"
    }
   ],
   "source": [
    "# Display the confusion matrix\n",
    "from sklearn.metrics import confusion_matrix\n",
    "y_pred = brf.predict(X_test)\n",
    "confusion_matrix(y_test, y_pred)"
   ]
  },
  {
   "cell_type": "code",
   "execution_count": 17,
   "id": "73ef34e0",
   "metadata": {},
   "outputs": [
    {
     "name": "stdout",
     "output_type": "stream",
     "text": [
      "                   pre       rec       spe        f1       geo       iba       sup\n",
      "\n",
      "          0       0.89      0.72      0.84      0.79      0.78      0.60      6192\n",
      "          1       0.63      0.84      0.72      0.72      0.78      0.61      3554\n",
      "\n",
      "avg / total       0.79      0.76      0.80      0.77      0.78      0.60      9746\n",
      "\n"
     ]
    }
   ],
   "source": [
    "# Print the imbalanced classification report\n",
    "from imblearn.metrics import classification_report_imbalanced\n",
    "print(classification_report_imbalanced(y_test, y_pred))"
   ]
  },
  {
   "cell_type": "code",
   "execution_count": 18,
   "id": "0f8c6ee5",
   "metadata": {},
   "outputs": [
    {
     "data": {
      "text/plain": [
       "[(0.15824681909571242, 'hemoglobin'),\n",
       " (0.11464034981095801, 'Gtp'),\n",
       " (0.07032074334536366, 'triglyceride'),\n",
       " (0.06142786448950477, 'weight(kg)'),\n",
       " (0.05770706417993728, 'serum creatinine'),\n",
       " (0.05604461822441589, 'Unnamed: 0'),\n",
       " (0.0559419541828236, 'LDL'),\n",
       " (0.05575208638309761, 'HDL'),\n",
       " (0.0555106212545723, 'ALT'),\n",
       " (0.05513072088288716, 'Cholesterol'),\n",
       " (0.05230077102974788, 'fasting blood sugar'),\n",
       " (0.05008376382037735, 'age'),\n",
       " (0.049664836341068594, 'systolic'),\n",
       " (0.04706250937267844, 'AST'),\n",
       " (0.046001165776770075, 'relaxation'),\n",
       " (0.008927660045268076, 'dental caries'),\n",
       " (0.005236451764816883, 'Urine protein')]"
      ]
     },
     "execution_count": 18,
     "metadata": {},
     "output_type": "execute_result"
    }
   ],
   "source": [
    "# List the features sorted in descending order by feature importance\n",
    "importances = brf.feature_importances_\n",
    "importances\n",
    "sorted(zip(brf.feature_importances_, X.columns), reverse=True)"
   ]
  },
  {
   "cell_type": "code",
   "execution_count": null,
   "id": "780687cb",
   "metadata": {},
   "outputs": [],
   "source": []
  }
 ],
 "metadata": {
  "kernelspec": {
   "display_name": "mlenv",
   "language": "python",
   "name": "mlenv"
  },
  "language_info": {
   "codemirror_mode": {
    "name": "ipython",
    "version": 3
   },
   "file_extension": ".py",
   "mimetype": "text/x-python",
   "name": "python",
   "nbconvert_exporter": "python",
   "pygments_lexer": "ipython3",
   "version": "3.7.15"
  }
 },
 "nbformat": 4,
 "nbformat_minor": 5
}
