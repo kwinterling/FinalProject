{
 "cells": [
  {
   "cell_type": "markdown",
   "id": "fcc09fd0",
   "metadata": {},
   "source": [
    "## Mock-Up for Project"
   ]
  },
  {
   "cell_type": "markdown",
   "id": "86522f64",
   "metadata": {},
   "source": [
    "#### Machine Learning Model \n",
    "----\n",
    "\n",
    "Unsupervised Machine Learning \n",
    "\n",
    "do exploratory analysis and see what factors are most significant to covid deaths then use machine learning to predict the number of deaths based on some metrics. "
   ]
  },
  {
   "cell_type": "markdown",
   "id": "efac1a77",
   "metadata": {},
   "source": [
    "#### Database\n",
    "----\n",
    "\n",
    "Add a second database "
   ]
  },
  {
   "cell_type": "markdown",
   "id": "1e8c609c",
   "metadata": {},
   "source": [
    "#### Final Dashboard\n",
    "----"
   ]
  },
  {
   "cell_type": "code",
   "execution_count": null,
   "id": "8aadd99b",
   "metadata": {},
   "outputs": [],
   "source": []
  }
 ],
 "metadata": {
  "kernelspec": {
   "display_name": "mlenv",
   "language": "python",
   "name": "mlenv"
  },
  "language_info": {
   "codemirror_mode": {
    "name": "ipython",
    "version": 3
   },
   "file_extension": ".py",
   "mimetype": "text/x-python",
   "name": "python",
   "nbconvert_exporter": "python",
   "pygments_lexer": "ipython3",
   "version": "3.7.13"
  }
 },
 "nbformat": 4,
 "nbformat_minor": 5
}
