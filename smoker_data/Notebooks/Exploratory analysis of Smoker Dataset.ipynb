{
 "cells": [
  {
   "cell_type": "code",
   "execution_count": 14,
   "id": "69b0a34b",
   "metadata": {},
   "outputs": [],
   "source": [
    "import pandas as pd\n",
    "from pathlib import Path\n",
    "import plotly.express as pxv"
   ]
  },
  {
   "cell_type": "code",
   "execution_count": 16,
   "id": "edf8b0be",
   "metadata": {},
   "outputs": [],
   "source": [
    "df_train = pd.read_csv('../Resources/train_dataset.csv')\n",
    "df_test = pd.read_csv('../Resources/test_dataset.csv')"
   ]
  },
  {
   "cell_type": "code",
   "execution_count": 17,
   "id": "3e6334e1",
   "metadata": {},
   "outputs": [
    {
     "name": "stdout",
     "output_type": "stream",
     "text": [
      "Train Dataset has 38984 rows. And is 70.0 % of the dataset\n",
      "Test Dataset has 16708 rows. And is 30.0 % of the dataset\n"
     ]
    }
   ],
   "source": [
    "print(f\"Train Dataset has {df_train.shape[0]} rows. And is\" \n",
    "      f\" {round(df_train.shape[0]/(df_train.shape[0]+df_test.shape[0])*100, 2)} % of the dataset\\n\"\n",
    "      f\"Test Dataset has {df_test.shape[0]} rows.\"\n",
    "      f\" And is {round(df_test.shape[0]/(df_train.shape[0]+df_test.shape[0])*100, 2)} % of the dataset\")\n",
    "      "
   ]
  },
  {
   "cell_type": "code",
   "execution_count": 18,
   "id": "258bcf49",
   "metadata": {},
   "outputs": [
    {
     "data": {
      "text/plain": [
       "Index(['age', 'height(cm)', 'weight(kg)', 'waist(cm)', 'eyesight(left)',\n",
       "       'eyesight(right)', 'hearing(left)', 'hearing(right)', 'systolic',\n",
       "       'relaxation', 'fasting blood sugar', 'Cholesterol', 'triglyceride',\n",
       "       'HDL', 'LDL', 'hemoglobin', 'Urine protein', 'serum creatinine', 'AST',\n",
       "       'ALT', 'Gtp', 'dental caries', 'smoking'],\n",
       "      dtype='object')"
      ]
     },
     "execution_count": 18,
     "metadata": {},
     "output_type": "execute_result"
    }
   ],
   "source": [
    "df_train.columns"
   ]
  },
  {
   "cell_type": "code",
   "execution_count": 19,
   "id": "da5f0a0f",
   "metadata": {},
   "outputs": [
    {
     "data": {
      "text/plain": [
       "Index(['age', 'height(cm)', 'weight(kg)', 'waist(cm)', 'eyesight(left)',\n",
       "       'eyesight(right)', 'hearing(left)', 'hearing(right)', 'systolic',\n",
       "       'relaxation', 'fasting blood sugar', 'Cholesterol', 'triglyceride',\n",
       "       'HDL', 'LDL', 'hemoglobin', 'Urine protein', 'serum creatinine', 'AST',\n",
       "       'ALT', 'Gtp', 'dental caries'],\n",
       "      dtype='object')"
      ]
     },
     "execution_count": 19,
     "metadata": {},
     "output_type": "execute_result"
    }
   ],
   "source": [
    "df_test.columns"
   ]
  },
  {
   "cell_type": "markdown",
   "id": "f0bb8e9c",
   "metadata": {},
   "source": [
    "Useful columns likely exclude Height, Eyesight, and Hearing. The other features will require some amount of machine learning to determine whether they are important features to for the machine learning algorithm or not."
   ]
  },
  {
   "cell_type": "code",
   "execution_count": 20,
   "id": "0a18fff5",
   "metadata": {},
   "outputs": [],
   "source": [
    "# Dropping not useful columns\n",
    "# df_test_light has all the same features except for 'smoking', which is the target\n",
    "df_train = df_train[['age', 'weight(kg)', 'systolic',\n",
    "       'relaxation', 'fasting blood sugar', 'Cholesterol', 'triglyceride',\n",
    "       'HDL', 'LDL', 'hemoglobin', 'Urine protein', 'serum creatinine', 'AST',\n",
    "       'ALT', 'Gtp', 'dental caries', 'smoking']]\n",
    "df_test = df_test[['age', 'weight(kg)', 'systolic',\n",
    "       'relaxation', 'fasting blood sugar', 'Cholesterol', 'triglyceride',\n",
    "       'HDL', 'LDL', 'hemoglobin', 'Urine protein', 'serum creatinine', 'AST',\n",
    "       'ALT', 'Gtp', 'dental caries']]"
   ]
  },
  {
   "cell_type": "markdown",
   "id": "7c15db19",
   "metadata": {},
   "source": [
    "The question is if we do a supervised machine learning model, we dont have smoking information for the test dataset. So what do we do ?"
   ]
  },
  {
   "cell_type": "markdown",
   "id": "3c2a1bf8",
   "metadata": {},
   "source": [
    "## Recommendation:\n",
    "#### Disregard the 'test' dataset and use only the train dataset for a machine learning algorithm and split it ourselves. This enables us to do a supervised machine learning algorithm. "
   ]
  },
  {
   "cell_type": "code",
   "execution_count": 21,
   "id": "9016444a",
   "metadata": {},
   "outputs": [
    {
     "data": {
      "text/html": [
       "<div>\n",
       "<style scoped>\n",
       "    .dataframe tbody tr th:only-of-type {\n",
       "        vertical-align: middle;\n",
       "    }\n",
       "\n",
       "    .dataframe tbody tr th {\n",
       "        vertical-align: top;\n",
       "    }\n",
       "\n",
       "    .dataframe thead th {\n",
       "        text-align: right;\n",
       "    }\n",
       "</style>\n",
       "<table border=\"1\" class=\"dataframe\">\n",
       "  <thead>\n",
       "    <tr style=\"text-align: right;\">\n",
       "      <th></th>\n",
       "      <th>age</th>\n",
       "      <th>weight(kg)</th>\n",
       "      <th>systolic</th>\n",
       "      <th>relaxation</th>\n",
       "      <th>fasting blood sugar</th>\n",
       "      <th>Cholesterol</th>\n",
       "      <th>triglyceride</th>\n",
       "      <th>HDL</th>\n",
       "      <th>LDL</th>\n",
       "      <th>hemoglobin</th>\n",
       "      <th>Urine protein</th>\n",
       "      <th>serum creatinine</th>\n",
       "      <th>AST</th>\n",
       "      <th>ALT</th>\n",
       "      <th>Gtp</th>\n",
       "      <th>dental caries</th>\n",
       "      <th>smoking</th>\n",
       "    </tr>\n",
       "  </thead>\n",
       "  <tbody>\n",
       "    <tr>\n",
       "      <th>0</th>\n",
       "      <td>35</td>\n",
       "      <td>85</td>\n",
       "      <td>118</td>\n",
       "      <td>78</td>\n",
       "      <td>97</td>\n",
       "      <td>239</td>\n",
       "      <td>153</td>\n",
       "      <td>70</td>\n",
       "      <td>142</td>\n",
       "      <td>19.8</td>\n",
       "      <td>1</td>\n",
       "      <td>1.0</td>\n",
       "      <td>61</td>\n",
       "      <td>115</td>\n",
       "      <td>125</td>\n",
       "      <td>1</td>\n",
       "      <td>1</td>\n",
       "    </tr>\n",
       "    <tr>\n",
       "      <th>1</th>\n",
       "      <td>20</td>\n",
       "      <td>110</td>\n",
       "      <td>119</td>\n",
       "      <td>79</td>\n",
       "      <td>88</td>\n",
       "      <td>211</td>\n",
       "      <td>128</td>\n",
       "      <td>71</td>\n",
       "      <td>114</td>\n",
       "      <td>15.9</td>\n",
       "      <td>1</td>\n",
       "      <td>1.1</td>\n",
       "      <td>19</td>\n",
       "      <td>25</td>\n",
       "      <td>30</td>\n",
       "      <td>1</td>\n",
       "      <td>0</td>\n",
       "    </tr>\n",
       "    <tr>\n",
       "      <th>2</th>\n",
       "      <td>45</td>\n",
       "      <td>65</td>\n",
       "      <td>110</td>\n",
       "      <td>80</td>\n",
       "      <td>80</td>\n",
       "      <td>193</td>\n",
       "      <td>120</td>\n",
       "      <td>57</td>\n",
       "      <td>112</td>\n",
       "      <td>13.7</td>\n",
       "      <td>3</td>\n",
       "      <td>0.6</td>\n",
       "      <td>1090</td>\n",
       "      <td>1400</td>\n",
       "      <td>276</td>\n",
       "      <td>0</td>\n",
       "      <td>0</td>\n",
       "    </tr>\n",
       "    <tr>\n",
       "      <th>3</th>\n",
       "      <td>45</td>\n",
       "      <td>80</td>\n",
       "      <td>158</td>\n",
       "      <td>88</td>\n",
       "      <td>249</td>\n",
       "      <td>210</td>\n",
       "      <td>366</td>\n",
       "      <td>46</td>\n",
       "      <td>91</td>\n",
       "      <td>16.9</td>\n",
       "      <td>1</td>\n",
       "      <td>0.9</td>\n",
       "      <td>32</td>\n",
       "      <td>36</td>\n",
       "      <td>36</td>\n",
       "      <td>0</td>\n",
       "      <td>0</td>\n",
       "    </tr>\n",
       "    <tr>\n",
       "      <th>4</th>\n",
       "      <td>20</td>\n",
       "      <td>60</td>\n",
       "      <td>109</td>\n",
       "      <td>64</td>\n",
       "      <td>100</td>\n",
       "      <td>179</td>\n",
       "      <td>200</td>\n",
       "      <td>47</td>\n",
       "      <td>92</td>\n",
       "      <td>14.9</td>\n",
       "      <td>1</td>\n",
       "      <td>1.2</td>\n",
       "      <td>26</td>\n",
       "      <td>28</td>\n",
       "      <td>15</td>\n",
       "      <td>0</td>\n",
       "      <td>0</td>\n",
       "    </tr>\n",
       "  </tbody>\n",
       "</table>\n",
       "</div>"
      ],
      "text/plain": [
       "   age  weight(kg)  systolic  relaxation  fasting blood sugar  Cholesterol  \\\n",
       "0   35          85       118          78                   97          239   \n",
       "1   20         110       119          79                   88          211   \n",
       "2   45          65       110          80                   80          193   \n",
       "3   45          80       158          88                  249          210   \n",
       "4   20          60       109          64                  100          179   \n",
       "\n",
       "   triglyceride  HDL  LDL  hemoglobin  Urine protein  serum creatinine   AST  \\\n",
       "0           153   70  142        19.8              1               1.0    61   \n",
       "1           128   71  114        15.9              1               1.1    19   \n",
       "2           120   57  112        13.7              3               0.6  1090   \n",
       "3           366   46   91        16.9              1               0.9    32   \n",
       "4           200   47   92        14.9              1               1.2    26   \n",
       "\n",
       "    ALT  Gtp  dental caries  smoking  \n",
       "0   115  125              1        1  \n",
       "1    25   30              1        0  \n",
       "2  1400  276              0        0  \n",
       "3    36   36              0        0  \n",
       "4    28   15              0        0  "
      ]
     },
     "metadata": {},
     "output_type": "display_data"
    },
    {
     "data": {
      "text/html": [
       "<div>\n",
       "<style scoped>\n",
       "    .dataframe tbody tr th:only-of-type {\n",
       "        vertical-align: middle;\n",
       "    }\n",
       "\n",
       "    .dataframe tbody tr th {\n",
       "        vertical-align: top;\n",
       "    }\n",
       "\n",
       "    .dataframe thead th {\n",
       "        text-align: right;\n",
       "    }\n",
       "</style>\n",
       "<table border=\"1\" class=\"dataframe\">\n",
       "  <thead>\n",
       "    <tr style=\"text-align: right;\">\n",
       "      <th></th>\n",
       "      <th>age</th>\n",
       "      <th>weight(kg)</th>\n",
       "      <th>systolic</th>\n",
       "      <th>relaxation</th>\n",
       "      <th>fasting blood sugar</th>\n",
       "      <th>Cholesterol</th>\n",
       "      <th>triglyceride</th>\n",
       "      <th>HDL</th>\n",
       "      <th>LDL</th>\n",
       "      <th>hemoglobin</th>\n",
       "      <th>Urine protein</th>\n",
       "      <th>serum creatinine</th>\n",
       "      <th>AST</th>\n",
       "      <th>ALT</th>\n",
       "      <th>Gtp</th>\n",
       "      <th>dental caries</th>\n",
       "    </tr>\n",
       "  </thead>\n",
       "  <tbody>\n",
       "    <tr>\n",
       "      <th>0</th>\n",
       "      <td>40</td>\n",
       "      <td>65</td>\n",
       "      <td>120</td>\n",
       "      <td>70</td>\n",
       "      <td>102</td>\n",
       "      <td>225</td>\n",
       "      <td>260</td>\n",
       "      <td>41</td>\n",
       "      <td>132</td>\n",
       "      <td>15.7</td>\n",
       "      <td>1</td>\n",
       "      <td>0.8</td>\n",
       "      <td>24</td>\n",
       "      <td>26</td>\n",
       "      <td>32</td>\n",
       "      <td>0</td>\n",
       "    </tr>\n",
       "    <tr>\n",
       "      <th>1</th>\n",
       "      <td>45</td>\n",
       "      <td>75</td>\n",
       "      <td>100</td>\n",
       "      <td>67</td>\n",
       "      <td>96</td>\n",
       "      <td>258</td>\n",
       "      <td>345</td>\n",
       "      <td>49</td>\n",
       "      <td>140</td>\n",
       "      <td>15.7</td>\n",
       "      <td>1</td>\n",
       "      <td>1.1</td>\n",
       "      <td>26</td>\n",
       "      <td>28</td>\n",
       "      <td>138</td>\n",
       "      <td>0</td>\n",
       "    </tr>\n",
       "    <tr>\n",
       "      <th>2</th>\n",
       "      <td>30</td>\n",
       "      <td>90</td>\n",
       "      <td>115</td>\n",
       "      <td>72</td>\n",
       "      <td>88</td>\n",
       "      <td>177</td>\n",
       "      <td>103</td>\n",
       "      <td>53</td>\n",
       "      <td>103</td>\n",
       "      <td>13.5</td>\n",
       "      <td>1</td>\n",
       "      <td>1.0</td>\n",
       "      <td>19</td>\n",
       "      <td>29</td>\n",
       "      <td>30</td>\n",
       "      <td>0</td>\n",
       "    </tr>\n",
       "    <tr>\n",
       "      <th>3</th>\n",
       "      <td>60</td>\n",
       "      <td>50</td>\n",
       "      <td>118</td>\n",
       "      <td>78</td>\n",
       "      <td>86</td>\n",
       "      <td>187</td>\n",
       "      <td>70</td>\n",
       "      <td>65</td>\n",
       "      <td>108</td>\n",
       "      <td>14.1</td>\n",
       "      <td>1</td>\n",
       "      <td>1.3</td>\n",
       "      <td>31</td>\n",
       "      <td>28</td>\n",
       "      <td>33</td>\n",
       "      <td>0</td>\n",
       "    </tr>\n",
       "    <tr>\n",
       "      <th>4</th>\n",
       "      <td>30</td>\n",
       "      <td>65</td>\n",
       "      <td>110</td>\n",
       "      <td>70</td>\n",
       "      <td>87</td>\n",
       "      <td>190</td>\n",
       "      <td>210</td>\n",
       "      <td>45</td>\n",
       "      <td>103</td>\n",
       "      <td>14.7</td>\n",
       "      <td>1</td>\n",
       "      <td>0.8</td>\n",
       "      <td>21</td>\n",
       "      <td>21</td>\n",
       "      <td>19</td>\n",
       "      <td>0</td>\n",
       "    </tr>\n",
       "  </tbody>\n",
       "</table>\n",
       "</div>"
      ],
      "text/plain": [
       "   age  weight(kg)  systolic  relaxation  fasting blood sugar  Cholesterol  \\\n",
       "0   40          65       120          70                  102          225   \n",
       "1   45          75       100          67                   96          258   \n",
       "2   30          90       115          72                   88          177   \n",
       "3   60          50       118          78                   86          187   \n",
       "4   30          65       110          70                   87          190   \n",
       "\n",
       "   triglyceride  HDL  LDL  hemoglobin  Urine protein  serum creatinine  AST  \\\n",
       "0           260   41  132        15.7              1               0.8   24   \n",
       "1           345   49  140        15.7              1               1.1   26   \n",
       "2           103   53  103        13.5              1               1.0   19   \n",
       "3            70   65  108        14.1              1               1.3   31   \n",
       "4           210   45  103        14.7              1               0.8   21   \n",
       "\n",
       "   ALT  Gtp  dental caries  \n",
       "0   26   32              0  \n",
       "1   28  138              0  \n",
       "2   29   30              0  \n",
       "3   28   33              0  \n",
       "4   21   19              0  "
      ]
     },
     "metadata": {},
     "output_type": "display_data"
    }
   ],
   "source": [
    "display(df_train.head(), df_test.head())"
   ]
  },
  {
   "cell_type": "code",
   "execution_count": 22,
   "id": "fbbfe987",
   "metadata": {},
   "outputs": [
    {
     "name": "stdout",
     "output_type": "stream",
     "text": [
      "<class 'pandas.core.frame.DataFrame'>\n",
      "RangeIndex: 38984 entries, 0 to 38983\n",
      "Data columns (total 17 columns):\n",
      " #   Column               Non-Null Count  Dtype  \n",
      "---  ------               --------------  -----  \n",
      " 0   age                  38984 non-null  int64  \n",
      " 1   weight(kg)           38984 non-null  int64  \n",
      " 2   systolic             38984 non-null  int64  \n",
      " 3   relaxation           38984 non-null  int64  \n",
      " 4   fasting blood sugar  38984 non-null  int64  \n",
      " 5   Cholesterol          38984 non-null  int64  \n",
      " 6   triglyceride         38984 non-null  int64  \n",
      " 7   HDL                  38984 non-null  int64  \n",
      " 8   LDL                  38984 non-null  int64  \n",
      " 9   hemoglobin           38984 non-null  float64\n",
      " 10  Urine protein        38984 non-null  int64  \n",
      " 11  serum creatinine     38984 non-null  float64\n",
      " 12  AST                  38984 non-null  int64  \n",
      " 13  ALT                  38984 non-null  int64  \n",
      " 14  Gtp                  38984 non-null  int64  \n",
      " 15  dental caries        38984 non-null  int64  \n",
      " 16  smoking              38984 non-null  int64  \n",
      "dtypes: float64(2), int64(15)\n",
      "memory usage: 5.1 MB\n"
     ]
    }
   ],
   "source": [
    "df_train.info()"
   ]
  },
  {
   "cell_type": "code",
   "execution_count": 23,
   "id": "aa6bcfd3",
   "metadata": {},
   "outputs": [
    {
     "name": "stdout",
     "output_type": "stream",
     "text": [
      "<class 'pandas.core.frame.DataFrame'>\n",
      "RangeIndex: 16708 entries, 0 to 16707\n",
      "Data columns (total 16 columns):\n",
      " #   Column               Non-Null Count  Dtype  \n",
      "---  ------               --------------  -----  \n",
      " 0   age                  16708 non-null  int64  \n",
      " 1   weight(kg)           16708 non-null  int64  \n",
      " 2   systolic             16708 non-null  int64  \n",
      " 3   relaxation           16708 non-null  int64  \n",
      " 4   fasting blood sugar  16708 non-null  int64  \n",
      " 5   Cholesterol          16708 non-null  int64  \n",
      " 6   triglyceride         16708 non-null  int64  \n",
      " 7   HDL                  16708 non-null  int64  \n",
      " 8   LDL                  16708 non-null  int64  \n",
      " 9   hemoglobin           16708 non-null  float64\n",
      " 10  Urine protein        16708 non-null  int64  \n",
      " 11  serum creatinine     16708 non-null  float64\n",
      " 12  AST                  16708 non-null  int64  \n",
      " 13  ALT                  16708 non-null  int64  \n",
      " 14  Gtp                  16708 non-null  int64  \n",
      " 15  dental caries        16708 non-null  int64  \n",
      "dtypes: float64(2), int64(14)\n",
      "memory usage: 2.0 MB\n"
     ]
    }
   ],
   "source": [
    "df_test.info()"
   ]
  },
  {
   "cell_type": "code",
   "execution_count": 24,
   "id": "179e9478",
   "metadata": {
    "scrolled": true
   },
   "outputs": [
    {
     "data": {
      "text/plain": [
       "age                     14\n",
       "weight(kg)              22\n",
       "systolic               125\n",
       "relaxation              94\n",
       "fasting blood sugar    258\n",
       "Cholesterol            279\n",
       "triglyceride           389\n",
       "HDL                    122\n",
       "LDL                    286\n",
       "hemoglobin             143\n",
       "Urine protein            6\n",
       "serum creatinine        34\n",
       "AST                    195\n",
       "ALT                    230\n",
       "Gtp                    439\n",
       "dental caries            2\n",
       "smoking                  2\n",
       "dtype: int64"
      ]
     },
     "execution_count": 24,
     "metadata": {},
     "output_type": "execute_result"
    }
   ],
   "source": [
    "df_train.nunique()"
   ]
  },
  {
   "cell_type": "code",
   "execution_count": 25,
   "id": "aad62b8a",
   "metadata": {},
   "outputs": [
    {
     "data": {
      "text/plain": [
       "age                     14\n",
       "weight(kg)              20\n",
       "systolic               114\n",
       "relaxation              81\n",
       "fasting blood sugar    221\n",
       "Cholesterol            251\n",
       "triglyceride           383\n",
       "HDL                    113\n",
       "LDL                    235\n",
       "hemoglobin             130\n",
       "Urine protein            6\n",
       "serum creatinine        25\n",
       "AST                    161\n",
       "ALT                    195\n",
       "Gtp                    358\n",
       "dental caries            2\n",
       "dtype: int64"
      ]
     },
     "execution_count": 25,
     "metadata": {},
     "output_type": "execute_result"
    }
   ],
   "source": [
    "df_test.nunique()"
   ]
  },
  {
   "cell_type": "code",
   "execution_count": 26,
   "id": "e4078010",
   "metadata": {},
   "outputs": [
    {
     "name": "stdout",
     "output_type": "stream",
     "text": [
      "Column age has 0 null values\n",
      "Column weight(kg) has 0 null values\n",
      "Column systolic has 0 null values\n",
      "Column relaxation has 0 null values\n",
      "Column fasting blood sugar has 0 null values\n",
      "Column Cholesterol has 0 null values\n",
      "Column triglyceride has 0 null values\n",
      "Column HDL has 0 null values\n",
      "Column LDL has 0 null values\n",
      "Column hemoglobin has 0 null values\n",
      "Column Urine protein has 0 null values\n",
      "Column serum creatinine has 0 null values\n",
      "Column AST has 0 null values\n",
      "Column ALT has 0 null values\n",
      "Column Gtp has 0 null values\n",
      "Column dental caries has 0 null values\n",
      "Column smoking has 0 null values\n"
     ]
    }
   ],
   "source": [
    "# Checking for nan values in Train data\n",
    "for column in df_train.columns:\n",
    "    print(f\"Column {column} has {df_train[column].isnull().sum()} null values\")"
   ]
  },
  {
   "cell_type": "code",
   "execution_count": 27,
   "id": "e617bb7e",
   "metadata": {},
   "outputs": [
    {
     "name": "stdout",
     "output_type": "stream",
     "text": [
      "Column age has 0 null values\n",
      "Column weight(kg) has 0 null values\n",
      "Column systolic has 0 null values\n",
      "Column relaxation has 0 null values\n",
      "Column fasting blood sugar has 0 null values\n",
      "Column Cholesterol has 0 null values\n",
      "Column triglyceride has 0 null values\n",
      "Column HDL has 0 null values\n",
      "Column LDL has 0 null values\n",
      "Column hemoglobin has 0 null values\n",
      "Column Urine protein has 0 null values\n",
      "Column serum creatinine has 0 null values\n",
      "Column AST has 0 null values\n",
      "Column ALT has 0 null values\n",
      "Column Gtp has 0 null values\n",
      "Column dental caries has 0 null values\n"
     ]
    }
   ],
   "source": [
    "# Checking for nan values in Test data\n",
    "for column in df_test.columns:\n",
    "    print(f\"Column {column} has {df_test[column].isnull().sum()} null values\")"
   ]
  },
  {
   "cell_type": "code",
   "execution_count": 28,
   "id": "781d8eae",
   "metadata": {},
   "outputs": [
    {
     "data": {
      "text/plain": [
       "age                      int64\n",
       "weight(kg)               int64\n",
       "systolic                 int64\n",
       "relaxation               int64\n",
       "fasting blood sugar      int64\n",
       "Cholesterol              int64\n",
       "triglyceride             int64\n",
       "HDL                      int64\n",
       "LDL                      int64\n",
       "hemoglobin             float64\n",
       "Urine protein            int64\n",
       "serum creatinine       float64\n",
       "AST                      int64\n",
       "ALT                      int64\n",
       "Gtp                      int64\n",
       "dental caries            int64\n",
       "smoking                  int64\n",
       "dtype: object"
      ]
     },
     "metadata": {},
     "output_type": "display_data"
    },
    {
     "data": {
      "text/plain": [
       "age                      int64\n",
       "weight(kg)               int64\n",
       "systolic                 int64\n",
       "relaxation               int64\n",
       "fasting blood sugar      int64\n",
       "Cholesterol              int64\n",
       "triglyceride             int64\n",
       "HDL                      int64\n",
       "LDL                      int64\n",
       "hemoglobin             float64\n",
       "Urine protein            int64\n",
       "serum creatinine       float64\n",
       "AST                      int64\n",
       "ALT                      int64\n",
       "Gtp                      int64\n",
       "dental caries            int64\n",
       "dtype: object"
      ]
     },
     "metadata": {},
     "output_type": "display_data"
    }
   ],
   "source": [
    "# Check for appropriate data types\n",
    "display(df_train.dtypes, df_test.dtypes)"
   ]
  },
  {
   "cell_type": "markdown",
   "id": "eec67672",
   "metadata": {},
   "source": [
    "## Potential Algorithms:\n",
    " - Random Forest\n",
    " - deep learning model? compare the performance"
   ]
  },
  {
   "cell_type": "code",
   "execution_count": 30,
   "id": "9d8b9f4d",
   "metadata": {},
   "outputs": [],
   "source": [
    "df_train.to_csv(\"../Resources/smoker_dataset_cleaned.csv\")"
   ]
  },
  {
   "cell_type": "code",
   "execution_count": null,
   "id": "d009b142",
   "metadata": {},
   "outputs": [],
   "source": []
  },
  {
   "cell_type": "code",
   "execution_count": null,
   "id": "a6b8d12c",
   "metadata": {},
   "outputs": [],
   "source": []
  }
 ],
 "metadata": {
  "kernelspec": {
   "display_name": "mlenv",
   "language": "python",
   "name": "mlenv"
  },
  "language_info": {
   "codemirror_mode": {
    "name": "ipython",
    "version": 3
   },
   "file_extension": ".py",
   "mimetype": "text/x-python",
   "name": "python",
   "nbconvert_exporter": "python",
   "pygments_lexer": "ipython3",
   "version": "3.7.13"
  }
 },
 "nbformat": 4,
 "nbformat_minor": 5
}
