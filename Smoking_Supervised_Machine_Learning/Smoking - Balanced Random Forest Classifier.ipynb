{
 "cells": [
  {
   "cell_type": "code",
   "execution_count": 1,
   "id": "a210a9c4",
   "metadata": {},
   "outputs": [],
   "source": [
    "# Import our dependencies\n",
    "from sklearn.model_selection import train_test_split\n",
    "from sklearn.preprocessing import StandardScaler,OneHotEncoder\n",
    "import pandas as pd\n",
    "from pathlib import Path\n",
    "\n",
    "from sklearn.metrics import balanced_accuracy_score\n",
    "from sklearn.metrics import confusion_matrix\n",
    "from imblearn.metrics import classification_report_imbalanced"
   ]
  },
  {
   "cell_type": "code",
   "execution_count": 2,
   "id": "9da50d97",
   "metadata": {},
   "outputs": [
    {
     "data": {
      "text/html": [
       "<div>\n",
       "<style scoped>\n",
       "    .dataframe tbody tr th:only-of-type {\n",
       "        vertical-align: middle;\n",
       "    }\n",
       "\n",
       "    .dataframe tbody tr th {\n",
       "        vertical-align: top;\n",
       "    }\n",
       "\n",
       "    .dataframe thead th {\n",
       "        text-align: right;\n",
       "    }\n",
       "</style>\n",
       "<table border=\"1\" class=\"dataframe\">\n",
       "  <thead>\n",
       "    <tr style=\"text-align: right;\">\n",
       "      <th></th>\n",
       "      <th>age</th>\n",
       "      <th>height(cm)</th>\n",
       "      <th>weight(kg)</th>\n",
       "      <th>waist(cm)</th>\n",
       "      <th>eyesight(left)</th>\n",
       "      <th>eyesight(right)</th>\n",
       "      <th>hearing(left)</th>\n",
       "      <th>hearing(right)</th>\n",
       "      <th>systolic</th>\n",
       "      <th>relaxation</th>\n",
       "      <th>...</th>\n",
       "      <th>HDL</th>\n",
       "      <th>LDL</th>\n",
       "      <th>hemoglobin</th>\n",
       "      <th>Urine protein</th>\n",
       "      <th>serum creatinine</th>\n",
       "      <th>AST</th>\n",
       "      <th>ALT</th>\n",
       "      <th>Gtp</th>\n",
       "      <th>dental caries</th>\n",
       "      <th>smoking</th>\n",
       "    </tr>\n",
       "  </thead>\n",
       "  <tbody>\n",
       "    <tr>\n",
       "      <th>0</th>\n",
       "      <td>35</td>\n",
       "      <td>170</td>\n",
       "      <td>85</td>\n",
       "      <td>97.0</td>\n",
       "      <td>0.9</td>\n",
       "      <td>0.9</td>\n",
       "      <td>1</td>\n",
       "      <td>1</td>\n",
       "      <td>118</td>\n",
       "      <td>78</td>\n",
       "      <td>...</td>\n",
       "      <td>70</td>\n",
       "      <td>142</td>\n",
       "      <td>19.8</td>\n",
       "      <td>1</td>\n",
       "      <td>1.0</td>\n",
       "      <td>61</td>\n",
       "      <td>115</td>\n",
       "      <td>125</td>\n",
       "      <td>1</td>\n",
       "      <td>1</td>\n",
       "    </tr>\n",
       "    <tr>\n",
       "      <th>1</th>\n",
       "      <td>20</td>\n",
       "      <td>175</td>\n",
       "      <td>110</td>\n",
       "      <td>110.0</td>\n",
       "      <td>0.7</td>\n",
       "      <td>0.9</td>\n",
       "      <td>1</td>\n",
       "      <td>1</td>\n",
       "      <td>119</td>\n",
       "      <td>79</td>\n",
       "      <td>...</td>\n",
       "      <td>71</td>\n",
       "      <td>114</td>\n",
       "      <td>15.9</td>\n",
       "      <td>1</td>\n",
       "      <td>1.1</td>\n",
       "      <td>19</td>\n",
       "      <td>25</td>\n",
       "      <td>30</td>\n",
       "      <td>1</td>\n",
       "      <td>0</td>\n",
       "    </tr>\n",
       "    <tr>\n",
       "      <th>2</th>\n",
       "      <td>45</td>\n",
       "      <td>155</td>\n",
       "      <td>65</td>\n",
       "      <td>86.0</td>\n",
       "      <td>0.9</td>\n",
       "      <td>0.9</td>\n",
       "      <td>1</td>\n",
       "      <td>1</td>\n",
       "      <td>110</td>\n",
       "      <td>80</td>\n",
       "      <td>...</td>\n",
       "      <td>57</td>\n",
       "      <td>112</td>\n",
       "      <td>13.7</td>\n",
       "      <td>3</td>\n",
       "      <td>0.6</td>\n",
       "      <td>1090</td>\n",
       "      <td>1400</td>\n",
       "      <td>276</td>\n",
       "      <td>0</td>\n",
       "      <td>0</td>\n",
       "    </tr>\n",
       "    <tr>\n",
       "      <th>3</th>\n",
       "      <td>45</td>\n",
       "      <td>165</td>\n",
       "      <td>80</td>\n",
       "      <td>94.0</td>\n",
       "      <td>0.8</td>\n",
       "      <td>0.7</td>\n",
       "      <td>1</td>\n",
       "      <td>1</td>\n",
       "      <td>158</td>\n",
       "      <td>88</td>\n",
       "      <td>...</td>\n",
       "      <td>46</td>\n",
       "      <td>91</td>\n",
       "      <td>16.9</td>\n",
       "      <td>1</td>\n",
       "      <td>0.9</td>\n",
       "      <td>32</td>\n",
       "      <td>36</td>\n",
       "      <td>36</td>\n",
       "      <td>0</td>\n",
       "      <td>0</td>\n",
       "    </tr>\n",
       "    <tr>\n",
       "      <th>4</th>\n",
       "      <td>20</td>\n",
       "      <td>165</td>\n",
       "      <td>60</td>\n",
       "      <td>81.0</td>\n",
       "      <td>1.5</td>\n",
       "      <td>0.1</td>\n",
       "      <td>1</td>\n",
       "      <td>1</td>\n",
       "      <td>109</td>\n",
       "      <td>64</td>\n",
       "      <td>...</td>\n",
       "      <td>47</td>\n",
       "      <td>92</td>\n",
       "      <td>14.9</td>\n",
       "      <td>1</td>\n",
       "      <td>1.2</td>\n",
       "      <td>26</td>\n",
       "      <td>28</td>\n",
       "      <td>15</td>\n",
       "      <td>0</td>\n",
       "      <td>0</td>\n",
       "    </tr>\n",
       "  </tbody>\n",
       "</table>\n",
       "<p>5 rows × 23 columns</p>\n",
       "</div>"
      ],
      "text/plain": [
       "   age  height(cm)  weight(kg)  waist(cm)  eyesight(left)  eyesight(right)  \\\n",
       "0   35         170          85       97.0             0.9              0.9   \n",
       "1   20         175         110      110.0             0.7              0.9   \n",
       "2   45         155          65       86.0             0.9              0.9   \n",
       "3   45         165          80       94.0             0.8              0.7   \n",
       "4   20         165          60       81.0             1.5              0.1   \n",
       "\n",
       "   hearing(left)  hearing(right)  systolic  relaxation  ...  HDL  LDL  \\\n",
       "0              1               1       118          78  ...   70  142   \n",
       "1              1               1       119          79  ...   71  114   \n",
       "2              1               1       110          80  ...   57  112   \n",
       "3              1               1       158          88  ...   46   91   \n",
       "4              1               1       109          64  ...   47   92   \n",
       "\n",
       "   hemoglobin  Urine protein  serum creatinine   AST   ALT  Gtp  \\\n",
       "0        19.8              1               1.0    61   115  125   \n",
       "1        15.9              1               1.1    19    25   30   \n",
       "2        13.7              3               0.6  1090  1400  276   \n",
       "3        16.9              1               0.9    32    36   36   \n",
       "4        14.9              1               1.2    26    28   15   \n",
       "\n",
       "   dental caries  smoking  \n",
       "0              1        1  \n",
       "1              1        0  \n",
       "2              0        0  \n",
       "3              0        0  \n",
       "4              0        0  \n",
       "\n",
       "[5 rows x 23 columns]"
      ]
     },
     "execution_count": 2,
     "metadata": {},
     "output_type": "execute_result"
    }
   ],
   "source": [
    "# Load the data\n",
    "file_path = Path('C:/Users/jyots/ucb/hw/final/train_dataset.csv')\n",
    "df = pd.read_csv(file_path)\n",
    "#df = df.loc[:, columns].copy()\n",
    "\n",
    "# Drop the null columns where all values are null\n",
    "df = df.dropna(axis='columns', how='all')\n",
    "\n",
    "# Drop the null rows\n",
    "df = df.dropna()\n",
    "\n",
    "\n",
    "df.head()"
   ]
  },
  {
   "cell_type": "code",
   "execution_count": 3,
   "id": "26996a62",
   "metadata": {},
   "outputs": [
    {
     "data": {
      "text/plain": [
       "age                      int64\n",
       "height(cm)               int64\n",
       "weight(kg)               int64\n",
       "waist(cm)              float64\n",
       "eyesight(left)         float64\n",
       "eyesight(right)        float64\n",
       "hearing(left)            int64\n",
       "hearing(right)           int64\n",
       "systolic                 int64\n",
       "relaxation               int64\n",
       "fasting blood sugar      int64\n",
       "Cholesterol              int64\n",
       "triglyceride             int64\n",
       "HDL                      int64\n",
       "LDL                      int64\n",
       "hemoglobin             float64\n",
       "Urine protein            int64\n",
       "serum creatinine       float64\n",
       "AST                      int64\n",
       "ALT                      int64\n",
       "Gtp                      int64\n",
       "dental caries            int64\n",
       "smoking                  int64\n",
       "dtype: object"
      ]
     },
     "execution_count": 3,
     "metadata": {},
     "output_type": "execute_result"
    }
   ],
   "source": [
    "df.dtypes"
   ]
  },
  {
   "cell_type": "code",
   "execution_count": 4,
   "id": "ac3d0643",
   "metadata": {
    "scrolled": true
   },
   "outputs": [
    {
     "data": {
      "text/html": [
       "<div>\n",
       "<style scoped>\n",
       "    .dataframe tbody tr th:only-of-type {\n",
       "        vertical-align: middle;\n",
       "    }\n",
       "\n",
       "    .dataframe tbody tr th {\n",
       "        vertical-align: top;\n",
       "    }\n",
       "\n",
       "    .dataframe thead th {\n",
       "        text-align: right;\n",
       "    }\n",
       "</style>\n",
       "<table border=\"1\" class=\"dataframe\">\n",
       "  <thead>\n",
       "    <tr style=\"text-align: right;\">\n",
       "      <th></th>\n",
       "      <th>age</th>\n",
       "      <th>systolic</th>\n",
       "      <th>relaxation</th>\n",
       "      <th>fasting blood sugar</th>\n",
       "      <th>Cholesterol</th>\n",
       "      <th>triglyceride</th>\n",
       "      <th>HDL</th>\n",
       "      <th>LDL</th>\n",
       "      <th>hemoglobin</th>\n",
       "      <th>Urine protein</th>\n",
       "      <th>serum creatinine</th>\n",
       "      <th>AST</th>\n",
       "      <th>ALT</th>\n",
       "      <th>Gtp</th>\n",
       "      <th>dental caries</th>\n",
       "      <th>smoking</th>\n",
       "    </tr>\n",
       "  </thead>\n",
       "  <tbody>\n",
       "    <tr>\n",
       "      <th>0</th>\n",
       "      <td>35</td>\n",
       "      <td>118</td>\n",
       "      <td>78</td>\n",
       "      <td>97</td>\n",
       "      <td>239</td>\n",
       "      <td>153</td>\n",
       "      <td>70</td>\n",
       "      <td>142</td>\n",
       "      <td>19.8</td>\n",
       "      <td>1</td>\n",
       "      <td>1.0</td>\n",
       "      <td>61</td>\n",
       "      <td>115</td>\n",
       "      <td>125</td>\n",
       "      <td>1</td>\n",
       "      <td>1</td>\n",
       "    </tr>\n",
       "    <tr>\n",
       "      <th>1</th>\n",
       "      <td>20</td>\n",
       "      <td>119</td>\n",
       "      <td>79</td>\n",
       "      <td>88</td>\n",
       "      <td>211</td>\n",
       "      <td>128</td>\n",
       "      <td>71</td>\n",
       "      <td>114</td>\n",
       "      <td>15.9</td>\n",
       "      <td>1</td>\n",
       "      <td>1.1</td>\n",
       "      <td>19</td>\n",
       "      <td>25</td>\n",
       "      <td>30</td>\n",
       "      <td>1</td>\n",
       "      <td>0</td>\n",
       "    </tr>\n",
       "    <tr>\n",
       "      <th>2</th>\n",
       "      <td>45</td>\n",
       "      <td>110</td>\n",
       "      <td>80</td>\n",
       "      <td>80</td>\n",
       "      <td>193</td>\n",
       "      <td>120</td>\n",
       "      <td>57</td>\n",
       "      <td>112</td>\n",
       "      <td>13.7</td>\n",
       "      <td>3</td>\n",
       "      <td>0.6</td>\n",
       "      <td>1090</td>\n",
       "      <td>1400</td>\n",
       "      <td>276</td>\n",
       "      <td>0</td>\n",
       "      <td>0</td>\n",
       "    </tr>\n",
       "    <tr>\n",
       "      <th>3</th>\n",
       "      <td>45</td>\n",
       "      <td>158</td>\n",
       "      <td>88</td>\n",
       "      <td>249</td>\n",
       "      <td>210</td>\n",
       "      <td>366</td>\n",
       "      <td>46</td>\n",
       "      <td>91</td>\n",
       "      <td>16.9</td>\n",
       "      <td>1</td>\n",
       "      <td>0.9</td>\n",
       "      <td>32</td>\n",
       "      <td>36</td>\n",
       "      <td>36</td>\n",
       "      <td>0</td>\n",
       "      <td>0</td>\n",
       "    </tr>\n",
       "    <tr>\n",
       "      <th>4</th>\n",
       "      <td>20</td>\n",
       "      <td>109</td>\n",
       "      <td>64</td>\n",
       "      <td>100</td>\n",
       "      <td>179</td>\n",
       "      <td>200</td>\n",
       "      <td>47</td>\n",
       "      <td>92</td>\n",
       "      <td>14.9</td>\n",
       "      <td>1</td>\n",
       "      <td>1.2</td>\n",
       "      <td>26</td>\n",
       "      <td>28</td>\n",
       "      <td>15</td>\n",
       "      <td>0</td>\n",
       "      <td>0</td>\n",
       "    </tr>\n",
       "  </tbody>\n",
       "</table>\n",
       "</div>"
      ],
      "text/plain": [
       "   age  systolic  relaxation  fasting blood sugar  Cholesterol  triglyceride  \\\n",
       "0   35       118          78                   97          239           153   \n",
       "1   20       119          79                   88          211           128   \n",
       "2   45       110          80                   80          193           120   \n",
       "3   45       158          88                  249          210           366   \n",
       "4   20       109          64                  100          179           200   \n",
       "\n",
       "   HDL  LDL  hemoglobin  Urine protein  serum creatinine   AST   ALT  Gtp  \\\n",
       "0   70  142        19.8              1               1.0    61   115  125   \n",
       "1   71  114        15.9              1               1.1    19    25   30   \n",
       "2   57  112        13.7              3               0.6  1090  1400  276   \n",
       "3   46   91        16.9              1               0.9    32    36   36   \n",
       "4   47   92        14.9              1               1.2    26    28   15   \n",
       "\n",
       "   dental caries  smoking  \n",
       "0              1        1  \n",
       "1              1        0  \n",
       "2              0        0  \n",
       "3              0        0  \n",
       "4              0        0  "
      ]
     },
     "execution_count": 4,
     "metadata": {},
     "output_type": "execute_result"
    }
   ],
   "source": [
    "# Drop the non-beneficial ID columns.\n",
    "new_df = df.drop(['waist(cm)', 'height(cm)', 'weight(kg)', 'eyesight(left)', 'eyesight(right)', 'hearing(left)', 'hearing(right)'], axis=1)\n",
    "new_df.head()"
   ]
  },
  {
   "cell_type": "code",
   "execution_count": 5,
   "id": "3fd2c4a9",
   "metadata": {},
   "outputs": [],
   "source": [
    "X = new_df.drop(columns=\"smoking\")\n",
    "y = pd.DataFrame(new_df[\"smoking\"])"
   ]
  },
  {
   "cell_type": "code",
   "execution_count": 6,
   "id": "366c8830",
   "metadata": {},
   "outputs": [
    {
     "data": {
      "text/html": [
       "<div>\n",
       "<style scoped>\n",
       "    .dataframe tbody tr th:only-of-type {\n",
       "        vertical-align: middle;\n",
       "    }\n",
       "\n",
       "    .dataframe tbody tr th {\n",
       "        vertical-align: top;\n",
       "    }\n",
       "\n",
       "    .dataframe thead th {\n",
       "        text-align: right;\n",
       "    }\n",
       "</style>\n",
       "<table border=\"1\" class=\"dataframe\">\n",
       "  <thead>\n",
       "    <tr style=\"text-align: right;\">\n",
       "      <th></th>\n",
       "      <th>age</th>\n",
       "      <th>systolic</th>\n",
       "      <th>relaxation</th>\n",
       "      <th>fasting blood sugar</th>\n",
       "      <th>Cholesterol</th>\n",
       "      <th>triglyceride</th>\n",
       "      <th>HDL</th>\n",
       "      <th>LDL</th>\n",
       "      <th>hemoglobin</th>\n",
       "      <th>Urine protein</th>\n",
       "      <th>serum creatinine</th>\n",
       "      <th>AST</th>\n",
       "      <th>ALT</th>\n",
       "      <th>Gtp</th>\n",
       "      <th>dental caries</th>\n",
       "    </tr>\n",
       "  </thead>\n",
       "  <tbody>\n",
       "    <tr>\n",
       "      <th>count</th>\n",
       "      <td>38984.000000</td>\n",
       "      <td>38984.000000</td>\n",
       "      <td>38984.000000</td>\n",
       "      <td>38984.000000</td>\n",
       "      <td>38984.000000</td>\n",
       "      <td>38984.000000</td>\n",
       "      <td>38984.000000</td>\n",
       "      <td>38984.000000</td>\n",
       "      <td>38984.000000</td>\n",
       "      <td>38984.000000</td>\n",
       "      <td>38984.000000</td>\n",
       "      <td>38984.000000</td>\n",
       "      <td>38984.000000</td>\n",
       "      <td>38984.000000</td>\n",
       "      <td>38984.000000</td>\n",
       "    </tr>\n",
       "    <tr>\n",
       "      <th>mean</th>\n",
       "      <td>44.127591</td>\n",
       "      <td>121.475631</td>\n",
       "      <td>75.994408</td>\n",
       "      <td>99.342269</td>\n",
       "      <td>196.883491</td>\n",
       "      <td>126.749461</td>\n",
       "      <td>57.293146</td>\n",
       "      <td>115.081495</td>\n",
       "      <td>14.624264</td>\n",
       "      <td>1.086523</td>\n",
       "      <td>0.886030</td>\n",
       "      <td>26.198235</td>\n",
       "      <td>27.145188</td>\n",
       "      <td>39.905038</td>\n",
       "      <td>0.214421</td>\n",
       "    </tr>\n",
       "    <tr>\n",
       "      <th>std</th>\n",
       "      <td>12.063564</td>\n",
       "      <td>13.643521</td>\n",
       "      <td>9.658734</td>\n",
       "      <td>20.642741</td>\n",
       "      <td>36.353945</td>\n",
       "      <td>71.803143</td>\n",
       "      <td>14.617822</td>\n",
       "      <td>42.883163</td>\n",
       "      <td>1.566528</td>\n",
       "      <td>0.402107</td>\n",
       "      <td>0.220621</td>\n",
       "      <td>19.175595</td>\n",
       "      <td>31.309945</td>\n",
       "      <td>49.693843</td>\n",
       "      <td>0.410426</td>\n",
       "    </tr>\n",
       "    <tr>\n",
       "      <th>min</th>\n",
       "      <td>20.000000</td>\n",
       "      <td>71.000000</td>\n",
       "      <td>40.000000</td>\n",
       "      <td>46.000000</td>\n",
       "      <td>55.000000</td>\n",
       "      <td>8.000000</td>\n",
       "      <td>4.000000</td>\n",
       "      <td>1.000000</td>\n",
       "      <td>4.900000</td>\n",
       "      <td>1.000000</td>\n",
       "      <td>0.100000</td>\n",
       "      <td>6.000000</td>\n",
       "      <td>1.000000</td>\n",
       "      <td>2.000000</td>\n",
       "      <td>0.000000</td>\n",
       "    </tr>\n",
       "    <tr>\n",
       "      <th>25%</th>\n",
       "      <td>40.000000</td>\n",
       "      <td>112.000000</td>\n",
       "      <td>70.000000</td>\n",
       "      <td>89.000000</td>\n",
       "      <td>172.000000</td>\n",
       "      <td>74.000000</td>\n",
       "      <td>47.000000</td>\n",
       "      <td>91.000000</td>\n",
       "      <td>13.600000</td>\n",
       "      <td>1.000000</td>\n",
       "      <td>0.800000</td>\n",
       "      <td>19.000000</td>\n",
       "      <td>15.000000</td>\n",
       "      <td>17.000000</td>\n",
       "      <td>0.000000</td>\n",
       "    </tr>\n",
       "    <tr>\n",
       "      <th>50%</th>\n",
       "      <td>40.000000</td>\n",
       "      <td>120.000000</td>\n",
       "      <td>76.000000</td>\n",
       "      <td>96.000000</td>\n",
       "      <td>195.000000</td>\n",
       "      <td>108.000000</td>\n",
       "      <td>55.000000</td>\n",
       "      <td>113.000000</td>\n",
       "      <td>14.800000</td>\n",
       "      <td>1.000000</td>\n",
       "      <td>0.900000</td>\n",
       "      <td>23.000000</td>\n",
       "      <td>21.000000</td>\n",
       "      <td>26.000000</td>\n",
       "      <td>0.000000</td>\n",
       "    </tr>\n",
       "    <tr>\n",
       "      <th>75%</th>\n",
       "      <td>55.000000</td>\n",
       "      <td>130.000000</td>\n",
       "      <td>82.000000</td>\n",
       "      <td>104.000000</td>\n",
       "      <td>219.000000</td>\n",
       "      <td>160.000000</td>\n",
       "      <td>66.000000</td>\n",
       "      <td>136.000000</td>\n",
       "      <td>15.800000</td>\n",
       "      <td>1.000000</td>\n",
       "      <td>1.000000</td>\n",
       "      <td>29.000000</td>\n",
       "      <td>31.000000</td>\n",
       "      <td>44.000000</td>\n",
       "      <td>0.000000</td>\n",
       "    </tr>\n",
       "    <tr>\n",
       "      <th>max</th>\n",
       "      <td>85.000000</td>\n",
       "      <td>233.000000</td>\n",
       "      <td>146.000000</td>\n",
       "      <td>423.000000</td>\n",
       "      <td>445.000000</td>\n",
       "      <td>999.000000</td>\n",
       "      <td>359.000000</td>\n",
       "      <td>1860.000000</td>\n",
       "      <td>21.100000</td>\n",
       "      <td>6.000000</td>\n",
       "      <td>11.600000</td>\n",
       "      <td>1090.000000</td>\n",
       "      <td>2914.000000</td>\n",
       "      <td>999.000000</td>\n",
       "      <td>1.000000</td>\n",
       "    </tr>\n",
       "  </tbody>\n",
       "</table>\n",
       "</div>"
      ],
      "text/plain": [
       "                age      systolic    relaxation  fasting blood sugar  \\\n",
       "count  38984.000000  38984.000000  38984.000000         38984.000000   \n",
       "mean      44.127591    121.475631     75.994408            99.342269   \n",
       "std       12.063564     13.643521      9.658734            20.642741   \n",
       "min       20.000000     71.000000     40.000000            46.000000   \n",
       "25%       40.000000    112.000000     70.000000            89.000000   \n",
       "50%       40.000000    120.000000     76.000000            96.000000   \n",
       "75%       55.000000    130.000000     82.000000           104.000000   \n",
       "max       85.000000    233.000000    146.000000           423.000000   \n",
       "\n",
       "        Cholesterol  triglyceride           HDL           LDL    hemoglobin  \\\n",
       "count  38984.000000  38984.000000  38984.000000  38984.000000  38984.000000   \n",
       "mean     196.883491    126.749461     57.293146    115.081495     14.624264   \n",
       "std       36.353945     71.803143     14.617822     42.883163      1.566528   \n",
       "min       55.000000      8.000000      4.000000      1.000000      4.900000   \n",
       "25%      172.000000     74.000000     47.000000     91.000000     13.600000   \n",
       "50%      195.000000    108.000000     55.000000    113.000000     14.800000   \n",
       "75%      219.000000    160.000000     66.000000    136.000000     15.800000   \n",
       "max      445.000000    999.000000    359.000000   1860.000000     21.100000   \n",
       "\n",
       "       Urine protein  serum creatinine           AST           ALT  \\\n",
       "count   38984.000000      38984.000000  38984.000000  38984.000000   \n",
       "mean        1.086523          0.886030     26.198235     27.145188   \n",
       "std         0.402107          0.220621     19.175595     31.309945   \n",
       "min         1.000000          0.100000      6.000000      1.000000   \n",
       "25%         1.000000          0.800000     19.000000     15.000000   \n",
       "50%         1.000000          0.900000     23.000000     21.000000   \n",
       "75%         1.000000          1.000000     29.000000     31.000000   \n",
       "max         6.000000         11.600000   1090.000000   2914.000000   \n",
       "\n",
       "                Gtp  dental caries  \n",
       "count  38984.000000   38984.000000  \n",
       "mean      39.905038       0.214421  \n",
       "std       49.693843       0.410426  \n",
       "min        2.000000       0.000000  \n",
       "25%       17.000000       0.000000  \n",
       "50%       26.000000       0.000000  \n",
       "75%       44.000000       0.000000  \n",
       "max      999.000000       1.000000  "
      ]
     },
     "execution_count": 6,
     "metadata": {},
     "output_type": "execute_result"
    }
   ],
   "source": [
    "X.describe()"
   ]
  },
  {
   "cell_type": "code",
   "execution_count": 7,
   "id": "f2c0cb47",
   "metadata": {},
   "outputs": [
    {
     "data": {
      "text/plain": [
       "0    24666\n",
       "1    14318\n",
       "Name: smoking, dtype: int64"
      ]
     },
     "execution_count": 7,
     "metadata": {},
     "output_type": "execute_result"
    }
   ],
   "source": [
    "y['smoking'].value_counts()"
   ]
  },
  {
   "cell_type": "code",
   "execution_count": 8,
   "id": "1d15e1b7",
   "metadata": {},
   "outputs": [
    {
     "data": {
      "text/plain": [
       "(29238, 15)"
      ]
     },
     "execution_count": 8,
     "metadata": {},
     "output_type": "execute_result"
    }
   ],
   "source": [
    "from collections import Counter\n",
    "from sklearn.model_selection import train_test_split\n",
    "\n",
    "X_train, X_test, y_train, y_test = train_test_split(X, \n",
    "                                                    y, \n",
    "                                                    random_state=1)\n",
    "X_train.shape"
   ]
  },
  {
   "cell_type": "code",
   "execution_count": 9,
   "id": "6a6b9933",
   "metadata": {},
   "outputs": [
    {
     "name": "stdout",
     "output_type": "stream",
     "text": [
      "(29238, 15)\n",
      "(9746, 15)\n",
      "(29238, 1)\n",
      "(9746, 1)\n"
     ]
    }
   ],
   "source": [
    "print(X_train.shape)\n",
    "print(X_test.shape)\n",
    "print(y_train.shape)\n",
    "print(y_test.shape)"
   ]
  },
  {
   "cell_type": "code",
   "execution_count": 10,
   "id": "b2640752",
   "metadata": {},
   "outputs": [
    {
     "data": {
      "text/plain": [
       "Counter({'smoking': 1})"
      ]
     },
     "execution_count": 10,
     "metadata": {},
     "output_type": "execute_result"
    }
   ],
   "source": [
    "Counter(y_train)"
   ]
  },
  {
   "cell_type": "code",
   "execution_count": 11,
   "id": "f6d45211",
   "metadata": {},
   "outputs": [],
   "source": [
    "from imblearn.ensemble import BalancedRandomForestClassifier\n",
    "from sklearn.datasets import make_classification"
   ]
  },
  {
   "cell_type": "code",
   "execution_count": 12,
   "id": "189d67b3",
   "metadata": {},
   "outputs": [
    {
     "data": {
      "text/plain": [
       "BalancedRandomForestClassifier(random_state=0)"
      ]
     },
     "execution_count": 12,
     "metadata": {},
     "output_type": "execute_result"
    }
   ],
   "source": [
    "from imblearn.ensemble import BalancedRandomForestClassifier\n",
    "brf = BalancedRandomForestClassifier(n_estimators=100, random_state=0)\n",
    "brf"
   ]
  },
  {
   "cell_type": "code",
   "execution_count": 13,
   "id": "32591810",
   "metadata": {},
   "outputs": [
    {
     "name": "stderr",
     "output_type": "stream",
     "text": [
      "C:\\Users\\jyots\\anaconda3\\envs\\mlenv\\lib\\site-packages\\ipykernel_launcher.py:1: DataConversionWarning: A column-vector y was passed when a 1d array was expected. Please change the shape of y to (n_samples,), for example using ravel().\n",
      "  \"\"\"Entry point for launching an IPython kernel.\n"
     ]
    }
   ],
   "source": [
    "brf.fit(X_train, y_train)\n",
    "y_pred = brf.predict(X_test)"
   ]
  },
  {
   "cell_type": "code",
   "execution_count": 14,
   "id": "12e57714",
   "metadata": {},
   "outputs": [
    {
     "data": {
      "text/plain": [
       "array([0, 1, 1, ..., 0, 1, 0], dtype=int64)"
      ]
     },
     "execution_count": 14,
     "metadata": {},
     "output_type": "execute_result"
    }
   ],
   "source": [
    "# Calculated the balanced accuracy score\n",
    "from sklearn.metrics import balanced_accuracy_score\n",
    "y_pred = brf.predict(X_test)\n",
    "y_pred"
   ]
  },
  {
   "cell_type": "code",
   "execution_count": 15,
   "id": "480a543b",
   "metadata": {},
   "outputs": [
    {
     "data": {
      "text/plain": [
       "0.7875595373121089"
      ]
     },
     "execution_count": 15,
     "metadata": {},
     "output_type": "execute_result"
    }
   ],
   "source": [
    "balanced_accuracy_score(y_test, y_pred)"
   ]
  },
  {
   "cell_type": "code",
   "execution_count": 16,
   "id": "187ffb80",
   "metadata": {},
   "outputs": [
    {
     "data": {
      "text/plain": [
       "array([[4549, 1643],\n",
       "       [ 567, 2987]], dtype=int64)"
      ]
     },
     "execution_count": 16,
     "metadata": {},
     "output_type": "execute_result"
    }
   ],
   "source": [
    "# Display the confusion matrix\n",
    "from sklearn.metrics import confusion_matrix\n",
    "y_pred = brf.predict(X_test)\n",
    "confusion_matrix(y_test, y_pred)"
   ]
  },
  {
   "cell_type": "code",
   "execution_count": 17,
   "id": "73ef34e0",
   "metadata": {},
   "outputs": [
    {
     "name": "stdout",
     "output_type": "stream",
     "text": [
      "                   pre       rec       spe        f1       geo       iba       sup\n",
      "\n",
      "          0       0.89      0.73      0.84      0.80      0.79      0.61      6192\n",
      "          1       0.65      0.84      0.73      0.73      0.79      0.62      3554\n",
      "\n",
      "avg / total       0.80      0.77      0.80      0.78      0.79      0.62      9746\n",
      "\n"
     ]
    }
   ],
   "source": [
    "# Print the imbalanced classification report\n",
    "from imblearn.metrics import classification_report_imbalanced\n",
    "print(classification_report_imbalanced(y_test, y_pred))"
   ]
  },
  {
   "cell_type": "code",
   "execution_count": 18,
   "id": "0f8c6ee5",
   "metadata": {},
   "outputs": [
    {
     "data": {
      "text/plain": [
       "[(0.1644204381834365, 'hemoglobin'),\n",
       " (0.123955585909415, 'Gtp'),\n",
       " (0.08426398483790516, 'triglyceride'),\n",
       " (0.06944864017030807, 'serum creatinine'),\n",
       " (0.06689903466763718, 'HDL'),\n",
       " (0.06463296113742702, 'LDL'),\n",
       " (0.0639691147950873, 'Cholesterol'),\n",
       " (0.06295578319038275, 'ALT'),\n",
       " (0.05981254993242382, 'fasting blood sugar'),\n",
       " (0.057622235995422495, 'age'),\n",
       " (0.056224779093431126, 'systolic'),\n",
       " (0.05551949116329178, 'AST'),\n",
       " (0.05414862201675992, 'relaxation'),\n",
       " (0.01017327214488037, 'dental caries'),\n",
       " (0.005953506762191572, 'Urine protein')]"
      ]
     },
     "execution_count": 18,
     "metadata": {},
     "output_type": "execute_result"
    }
   ],
   "source": [
    "# List the features sorted in descending order by feature importance\n",
    "importances = brf.feature_importances_\n",
    "importances\n",
    "sorted(zip(brf.feature_importances_, X.columns), reverse=True)"
   ]
  },
  {
   "cell_type": "code",
   "execution_count": null,
   "id": "780687cb",
   "metadata": {},
   "outputs": [],
   "source": []
  }
 ],
 "metadata": {
  "kernelspec": {
   "display_name": "mlenv",
   "language": "python",
   "name": "mlenv"
  },
  "language_info": {
   "codemirror_mode": {
    "name": "ipython",
    "version": 3
   },
   "file_extension": ".py",
   "mimetype": "text/x-python",
   "name": "python",
   "nbconvert_exporter": "python",
   "pygments_lexer": "ipython3",
   "version": "3.7.15"
  }
 },
 "nbformat": 4,
 "nbformat_minor": 5
}
