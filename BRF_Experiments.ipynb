{
  "cells": [
    {
      "cell_type": "code",
      "execution_count": 1,
      "id": "a210a9c4",
      "metadata": {
        "id": "a210a9c4"
      },
      "outputs": [],
      "source": [
        "# Import our dependencies\n",
        "from sklearn.model_selection import train_test_split\n",
        "from sklearn.model_selection import GridSearchCV\n",
        "from sklearn.preprocessing import StandardScaler,OneHotEncoder\n",
        "import pandas as pd\n",
        "from pathlib import Path\n",
        "\n",
        "from sklearn.metrics import balanced_accuracy_score\n",
        "from sklearn.metrics import confusion_matrix\n",
        "from imblearn.metrics import classification_report_imbalanced"
      ]
    },
    {
      "cell_type": "code",
      "execution_count": 2,
      "id": "9da50d97",
      "metadata": {
        "colab": {
          "base_uri": "https://localhost:8080/",
          "height": 316
        },
        "id": "9da50d97",
        "outputId": "adfcfe0a-530b-446a-9a36-b2e43ada80ff"
      },
      "outputs": [
        {
          "output_type": "execute_result",
          "data": {
            "text/plain": [
              "   age  height(cm)  weight(kg)  waist(cm)  eyesight(left)  eyesight(right)  \\\n",
              "0   35         170          85       97.0             0.9              0.9   \n",
              "1   20         175         110      110.0             0.7              0.9   \n",
              "2   45         155          65       86.0             0.9              0.9   \n",
              "3   45         165          80       94.0             0.8              0.7   \n",
              "4   20         165          60       81.0             1.5              0.1   \n",
              "\n",
              "   hearing(left)  hearing(right)  systolic  relaxation  ...  HDL  LDL  \\\n",
              "0              1               1       118          78  ...   70  142   \n",
              "1              1               1       119          79  ...   71  114   \n",
              "2              1               1       110          80  ...   57  112   \n",
              "3              1               1       158          88  ...   46   91   \n",
              "4              1               1       109          64  ...   47   92   \n",
              "\n",
              "   hemoglobin  Urine protein  serum creatinine   AST   ALT  Gtp  \\\n",
              "0        19.8              1               1.0    61   115  125   \n",
              "1        15.9              1               1.1    19    25   30   \n",
              "2        13.7              3               0.6  1090  1400  276   \n",
              "3        16.9              1               0.9    32    36   36   \n",
              "4        14.9              1               1.2    26    28   15   \n",
              "\n",
              "   dental caries  smoking  \n",
              "0              1        1  \n",
              "1              1        0  \n",
              "2              0        0  \n",
              "3              0        0  \n",
              "4              0        0  \n",
              "\n",
              "[5 rows x 23 columns]"
            ],
            "text/html": [
              "\n",
              "  <div id=\"df-3101bcda-7438-45af-a610-92e5cf41af4d\">\n",
              "    <div class=\"colab-df-container\">\n",
              "      <div>\n",
              "<style scoped>\n",
              "    .dataframe tbody tr th:only-of-type {\n",
              "        vertical-align: middle;\n",
              "    }\n",
              "\n",
              "    .dataframe tbody tr th {\n",
              "        vertical-align: top;\n",
              "    }\n",
              "\n",
              "    .dataframe thead th {\n",
              "        text-align: right;\n",
              "    }\n",
              "</style>\n",
              "<table border=\"1\" class=\"dataframe\">\n",
              "  <thead>\n",
              "    <tr style=\"text-align: right;\">\n",
              "      <th></th>\n",
              "      <th>age</th>\n",
              "      <th>height(cm)</th>\n",
              "      <th>weight(kg)</th>\n",
              "      <th>waist(cm)</th>\n",
              "      <th>eyesight(left)</th>\n",
              "      <th>eyesight(right)</th>\n",
              "      <th>hearing(left)</th>\n",
              "      <th>hearing(right)</th>\n",
              "      <th>systolic</th>\n",
              "      <th>relaxation</th>\n",
              "      <th>...</th>\n",
              "      <th>HDL</th>\n",
              "      <th>LDL</th>\n",
              "      <th>hemoglobin</th>\n",
              "      <th>Urine protein</th>\n",
              "      <th>serum creatinine</th>\n",
              "      <th>AST</th>\n",
              "      <th>ALT</th>\n",
              "      <th>Gtp</th>\n",
              "      <th>dental caries</th>\n",
              "      <th>smoking</th>\n",
              "    </tr>\n",
              "  </thead>\n",
              "  <tbody>\n",
              "    <tr>\n",
              "      <th>0</th>\n",
              "      <td>35</td>\n",
              "      <td>170</td>\n",
              "      <td>85</td>\n",
              "      <td>97.0</td>\n",
              "      <td>0.9</td>\n",
              "      <td>0.9</td>\n",
              "      <td>1</td>\n",
              "      <td>1</td>\n",
              "      <td>118</td>\n",
              "      <td>78</td>\n",
              "      <td>...</td>\n",
              "      <td>70</td>\n",
              "      <td>142</td>\n",
              "      <td>19.8</td>\n",
              "      <td>1</td>\n",
              "      <td>1.0</td>\n",
              "      <td>61</td>\n",
              "      <td>115</td>\n",
              "      <td>125</td>\n",
              "      <td>1</td>\n",
              "      <td>1</td>\n",
              "    </tr>\n",
              "    <tr>\n",
              "      <th>1</th>\n",
              "      <td>20</td>\n",
              "      <td>175</td>\n",
              "      <td>110</td>\n",
              "      <td>110.0</td>\n",
              "      <td>0.7</td>\n",
              "      <td>0.9</td>\n",
              "      <td>1</td>\n",
              "      <td>1</td>\n",
              "      <td>119</td>\n",
              "      <td>79</td>\n",
              "      <td>...</td>\n",
              "      <td>71</td>\n",
              "      <td>114</td>\n",
              "      <td>15.9</td>\n",
              "      <td>1</td>\n",
              "      <td>1.1</td>\n",
              "      <td>19</td>\n",
              "      <td>25</td>\n",
              "      <td>30</td>\n",
              "      <td>1</td>\n",
              "      <td>0</td>\n",
              "    </tr>\n",
              "    <tr>\n",
              "      <th>2</th>\n",
              "      <td>45</td>\n",
              "      <td>155</td>\n",
              "      <td>65</td>\n",
              "      <td>86.0</td>\n",
              "      <td>0.9</td>\n",
              "      <td>0.9</td>\n",
              "      <td>1</td>\n",
              "      <td>1</td>\n",
              "      <td>110</td>\n",
              "      <td>80</td>\n",
              "      <td>...</td>\n",
              "      <td>57</td>\n",
              "      <td>112</td>\n",
              "      <td>13.7</td>\n",
              "      <td>3</td>\n",
              "      <td>0.6</td>\n",
              "      <td>1090</td>\n",
              "      <td>1400</td>\n",
              "      <td>276</td>\n",
              "      <td>0</td>\n",
              "      <td>0</td>\n",
              "    </tr>\n",
              "    <tr>\n",
              "      <th>3</th>\n",
              "      <td>45</td>\n",
              "      <td>165</td>\n",
              "      <td>80</td>\n",
              "      <td>94.0</td>\n",
              "      <td>0.8</td>\n",
              "      <td>0.7</td>\n",
              "      <td>1</td>\n",
              "      <td>1</td>\n",
              "      <td>158</td>\n",
              "      <td>88</td>\n",
              "      <td>...</td>\n",
              "      <td>46</td>\n",
              "      <td>91</td>\n",
              "      <td>16.9</td>\n",
              "      <td>1</td>\n",
              "      <td>0.9</td>\n",
              "      <td>32</td>\n",
              "      <td>36</td>\n",
              "      <td>36</td>\n",
              "      <td>0</td>\n",
              "      <td>0</td>\n",
              "    </tr>\n",
              "    <tr>\n",
              "      <th>4</th>\n",
              "      <td>20</td>\n",
              "      <td>165</td>\n",
              "      <td>60</td>\n",
              "      <td>81.0</td>\n",
              "      <td>1.5</td>\n",
              "      <td>0.1</td>\n",
              "      <td>1</td>\n",
              "      <td>1</td>\n",
              "      <td>109</td>\n",
              "      <td>64</td>\n",
              "      <td>...</td>\n",
              "      <td>47</td>\n",
              "      <td>92</td>\n",
              "      <td>14.9</td>\n",
              "      <td>1</td>\n",
              "      <td>1.2</td>\n",
              "      <td>26</td>\n",
              "      <td>28</td>\n",
              "      <td>15</td>\n",
              "      <td>0</td>\n",
              "      <td>0</td>\n",
              "    </tr>\n",
              "  </tbody>\n",
              "</table>\n",
              "<p>5 rows × 23 columns</p>\n",
              "</div>\n",
              "      <button class=\"colab-df-convert\" onclick=\"convertToInteractive('df-3101bcda-7438-45af-a610-92e5cf41af4d')\"\n",
              "              title=\"Convert this dataframe to an interactive table.\"\n",
              "              style=\"display:none;\">\n",
              "        \n",
              "  <svg xmlns=\"http://www.w3.org/2000/svg\" height=\"24px\"viewBox=\"0 0 24 24\"\n",
              "       width=\"24px\">\n",
              "    <path d=\"M0 0h24v24H0V0z\" fill=\"none\"/>\n",
              "    <path d=\"M18.56 5.44l.94 2.06.94-2.06 2.06-.94-2.06-.94-.94-2.06-.94 2.06-2.06.94zm-11 1L8.5 8.5l.94-2.06 2.06-.94-2.06-.94L8.5 2.5l-.94 2.06-2.06.94zm10 10l.94 2.06.94-2.06 2.06-.94-2.06-.94-.94-2.06-.94 2.06-2.06.94z\"/><path d=\"M17.41 7.96l-1.37-1.37c-.4-.4-.92-.59-1.43-.59-.52 0-1.04.2-1.43.59L10.3 9.45l-7.72 7.72c-.78.78-.78 2.05 0 2.83L4 21.41c.39.39.9.59 1.41.59.51 0 1.02-.2 1.41-.59l7.78-7.78 2.81-2.81c.8-.78.8-2.07 0-2.86zM5.41 20L4 18.59l7.72-7.72 1.47 1.35L5.41 20z\"/>\n",
              "  </svg>\n",
              "      </button>\n",
              "      \n",
              "  <style>\n",
              "    .colab-df-container {\n",
              "      display:flex;\n",
              "      flex-wrap:wrap;\n",
              "      gap: 12px;\n",
              "    }\n",
              "\n",
              "    .colab-df-convert {\n",
              "      background-color: #E8F0FE;\n",
              "      border: none;\n",
              "      border-radius: 50%;\n",
              "      cursor: pointer;\n",
              "      display: none;\n",
              "      fill: #1967D2;\n",
              "      height: 32px;\n",
              "      padding: 0 0 0 0;\n",
              "      width: 32px;\n",
              "    }\n",
              "\n",
              "    .colab-df-convert:hover {\n",
              "      background-color: #E2EBFA;\n",
              "      box-shadow: 0px 1px 2px rgba(60, 64, 67, 0.3), 0px 1px 3px 1px rgba(60, 64, 67, 0.15);\n",
              "      fill: #174EA6;\n",
              "    }\n",
              "\n",
              "    [theme=dark] .colab-df-convert {\n",
              "      background-color: #3B4455;\n",
              "      fill: #D2E3FC;\n",
              "    }\n",
              "\n",
              "    [theme=dark] .colab-df-convert:hover {\n",
              "      background-color: #434B5C;\n",
              "      box-shadow: 0px 1px 3px 1px rgba(0, 0, 0, 0.15);\n",
              "      filter: drop-shadow(0px 1px 2px rgba(0, 0, 0, 0.3));\n",
              "      fill: #FFFFFF;\n",
              "    }\n",
              "  </style>\n",
              "\n",
              "      <script>\n",
              "        const buttonEl =\n",
              "          document.querySelector('#df-3101bcda-7438-45af-a610-92e5cf41af4d button.colab-df-convert');\n",
              "        buttonEl.style.display =\n",
              "          google.colab.kernel.accessAllowed ? 'block' : 'none';\n",
              "\n",
              "        async function convertToInteractive(key) {\n",
              "          const element = document.querySelector('#df-3101bcda-7438-45af-a610-92e5cf41af4d');\n",
              "          const dataTable =\n",
              "            await google.colab.kernel.invokeFunction('convertToInteractive',\n",
              "                                                     [key], {});\n",
              "          if (!dataTable) return;\n",
              "\n",
              "          const docLinkHtml = 'Like what you see? Visit the ' +\n",
              "            '<a target=\"_blank\" href=https://colab.research.google.com/notebooks/data_table.ipynb>data table notebook</a>'\n",
              "            + ' to learn more about interactive tables.';\n",
              "          element.innerHTML = '';\n",
              "          dataTable['output_type'] = 'display_data';\n",
              "          await google.colab.output.renderOutput(dataTable, element);\n",
              "          const docLink = document.createElement('div');\n",
              "          docLink.innerHTML = docLinkHtml;\n",
              "          element.appendChild(docLink);\n",
              "        }\n",
              "      </script>\n",
              "    </div>\n",
              "  </div>\n",
              "  "
            ]
          },
          "metadata": {},
          "execution_count": 2
        }
      ],
      "source": [
        "# Load the data\n",
        "file_path = \"https://raw.githubusercontent.com/kwinterling/FinalProject/main/smoker_data/Resources/train_dataset.csv\"\n",
        "df = pd.read_csv(file_path)\n",
        "#df = df.loc[:, columns].copy()\n",
        "\n",
        "# Drop the null columns where all values are null\n",
        "df = df.dropna(axis='columns', how='all')\n",
        "\n",
        "# Drop the null rows\n",
        "df = df.dropna()\n",
        "\n",
        "\n",
        "df.head()"
      ]
    },
    {
      "cell_type": "code",
      "execution_count": 3,
      "id": "26996a62",
      "metadata": {
        "colab": {
          "base_uri": "https://localhost:8080/"
        },
        "id": "26996a62",
        "outputId": "7cca399c-8aa5-4bd0-c060-4c9e1ffbccf1"
      },
      "outputs": [
        {
          "output_type": "execute_result",
          "data": {
            "text/plain": [
              "age                      int64\n",
              "height(cm)               int64\n",
              "weight(kg)               int64\n",
              "waist(cm)              float64\n",
              "eyesight(left)         float64\n",
              "eyesight(right)        float64\n",
              "hearing(left)            int64\n",
              "hearing(right)           int64\n",
              "systolic                 int64\n",
              "relaxation               int64\n",
              "fasting blood sugar      int64\n",
              "Cholesterol              int64\n",
              "triglyceride             int64\n",
              "HDL                      int64\n",
              "LDL                      int64\n",
              "hemoglobin             float64\n",
              "Urine protein            int64\n",
              "serum creatinine       float64\n",
              "AST                      int64\n",
              "ALT                      int64\n",
              "Gtp                      int64\n",
              "dental caries            int64\n",
              "smoking                  int64\n",
              "dtype: object"
            ]
          },
          "metadata": {},
          "execution_count": 3
        }
      ],
      "source": [
        "df.dtypes"
      ]
    },
    {
      "cell_type": "code",
      "execution_count": 4,
      "id": "ac3d0643",
      "metadata": {
        "scrolled": true,
        "colab": {
          "base_uri": "https://localhost:8080/",
          "height": 206
        },
        "id": "ac3d0643",
        "outputId": "47639aaa-c4fe-4880-f279-127c80eaaef4"
      },
      "outputs": [
        {
          "output_type": "execute_result",
          "data": {
            "text/plain": [
              "   fasting blood sugar  Cholesterol  triglyceride  HDL  LDL  hemoglobin  \\\n",
              "0                   97          239           153   70  142        19.8   \n",
              "1                   88          211           128   71  114        15.9   \n",
              "2                   80          193           120   57  112        13.7   \n",
              "3                  249          210           366   46   91        16.9   \n",
              "4                  100          179           200   47   92        14.9   \n",
              "\n",
              "   serum creatinine   ALT  Gtp  smoking  \n",
              "0               1.0   115  125        1  \n",
              "1               1.1    25   30        0  \n",
              "2               0.6  1400  276        0  \n",
              "3               0.9    36   36        0  \n",
              "4               1.2    28   15        0  "
            ],
            "text/html": [
              "\n",
              "  <div id=\"df-79ea7ec4-0cb3-4473-b43a-1e3ccfe826cc\">\n",
              "    <div class=\"colab-df-container\">\n",
              "      <div>\n",
              "<style scoped>\n",
              "    .dataframe tbody tr th:only-of-type {\n",
              "        vertical-align: middle;\n",
              "    }\n",
              "\n",
              "    .dataframe tbody tr th {\n",
              "        vertical-align: top;\n",
              "    }\n",
              "\n",
              "    .dataframe thead th {\n",
              "        text-align: right;\n",
              "    }\n",
              "</style>\n",
              "<table border=\"1\" class=\"dataframe\">\n",
              "  <thead>\n",
              "    <tr style=\"text-align: right;\">\n",
              "      <th></th>\n",
              "      <th>fasting blood sugar</th>\n",
              "      <th>Cholesterol</th>\n",
              "      <th>triglyceride</th>\n",
              "      <th>HDL</th>\n",
              "      <th>LDL</th>\n",
              "      <th>hemoglobin</th>\n",
              "      <th>serum creatinine</th>\n",
              "      <th>ALT</th>\n",
              "      <th>Gtp</th>\n",
              "      <th>smoking</th>\n",
              "    </tr>\n",
              "  </thead>\n",
              "  <tbody>\n",
              "    <tr>\n",
              "      <th>0</th>\n",
              "      <td>97</td>\n",
              "      <td>239</td>\n",
              "      <td>153</td>\n",
              "      <td>70</td>\n",
              "      <td>142</td>\n",
              "      <td>19.8</td>\n",
              "      <td>1.0</td>\n",
              "      <td>115</td>\n",
              "      <td>125</td>\n",
              "      <td>1</td>\n",
              "    </tr>\n",
              "    <tr>\n",
              "      <th>1</th>\n",
              "      <td>88</td>\n",
              "      <td>211</td>\n",
              "      <td>128</td>\n",
              "      <td>71</td>\n",
              "      <td>114</td>\n",
              "      <td>15.9</td>\n",
              "      <td>1.1</td>\n",
              "      <td>25</td>\n",
              "      <td>30</td>\n",
              "      <td>0</td>\n",
              "    </tr>\n",
              "    <tr>\n",
              "      <th>2</th>\n",
              "      <td>80</td>\n",
              "      <td>193</td>\n",
              "      <td>120</td>\n",
              "      <td>57</td>\n",
              "      <td>112</td>\n",
              "      <td>13.7</td>\n",
              "      <td>0.6</td>\n",
              "      <td>1400</td>\n",
              "      <td>276</td>\n",
              "      <td>0</td>\n",
              "    </tr>\n",
              "    <tr>\n",
              "      <th>3</th>\n",
              "      <td>249</td>\n",
              "      <td>210</td>\n",
              "      <td>366</td>\n",
              "      <td>46</td>\n",
              "      <td>91</td>\n",
              "      <td>16.9</td>\n",
              "      <td>0.9</td>\n",
              "      <td>36</td>\n",
              "      <td>36</td>\n",
              "      <td>0</td>\n",
              "    </tr>\n",
              "    <tr>\n",
              "      <th>4</th>\n",
              "      <td>100</td>\n",
              "      <td>179</td>\n",
              "      <td>200</td>\n",
              "      <td>47</td>\n",
              "      <td>92</td>\n",
              "      <td>14.9</td>\n",
              "      <td>1.2</td>\n",
              "      <td>28</td>\n",
              "      <td>15</td>\n",
              "      <td>0</td>\n",
              "    </tr>\n",
              "  </tbody>\n",
              "</table>\n",
              "</div>\n",
              "      <button class=\"colab-df-convert\" onclick=\"convertToInteractive('df-79ea7ec4-0cb3-4473-b43a-1e3ccfe826cc')\"\n",
              "              title=\"Convert this dataframe to an interactive table.\"\n",
              "              style=\"display:none;\">\n",
              "        \n",
              "  <svg xmlns=\"http://www.w3.org/2000/svg\" height=\"24px\"viewBox=\"0 0 24 24\"\n",
              "       width=\"24px\">\n",
              "    <path d=\"M0 0h24v24H0V0z\" fill=\"none\"/>\n",
              "    <path d=\"M18.56 5.44l.94 2.06.94-2.06 2.06-.94-2.06-.94-.94-2.06-.94 2.06-2.06.94zm-11 1L8.5 8.5l.94-2.06 2.06-.94-2.06-.94L8.5 2.5l-.94 2.06-2.06.94zm10 10l.94 2.06.94-2.06 2.06-.94-2.06-.94-.94-2.06-.94 2.06-2.06.94z\"/><path d=\"M17.41 7.96l-1.37-1.37c-.4-.4-.92-.59-1.43-.59-.52 0-1.04.2-1.43.59L10.3 9.45l-7.72 7.72c-.78.78-.78 2.05 0 2.83L4 21.41c.39.39.9.59 1.41.59.51 0 1.02-.2 1.41-.59l7.78-7.78 2.81-2.81c.8-.78.8-2.07 0-2.86zM5.41 20L4 18.59l7.72-7.72 1.47 1.35L5.41 20z\"/>\n",
              "  </svg>\n",
              "      </button>\n",
              "      \n",
              "  <style>\n",
              "    .colab-df-container {\n",
              "      display:flex;\n",
              "      flex-wrap:wrap;\n",
              "      gap: 12px;\n",
              "    }\n",
              "\n",
              "    .colab-df-convert {\n",
              "      background-color: #E8F0FE;\n",
              "      border: none;\n",
              "      border-radius: 50%;\n",
              "      cursor: pointer;\n",
              "      display: none;\n",
              "      fill: #1967D2;\n",
              "      height: 32px;\n",
              "      padding: 0 0 0 0;\n",
              "      width: 32px;\n",
              "    }\n",
              "\n",
              "    .colab-df-convert:hover {\n",
              "      background-color: #E2EBFA;\n",
              "      box-shadow: 0px 1px 2px rgba(60, 64, 67, 0.3), 0px 1px 3px 1px rgba(60, 64, 67, 0.15);\n",
              "      fill: #174EA6;\n",
              "    }\n",
              "\n",
              "    [theme=dark] .colab-df-convert {\n",
              "      background-color: #3B4455;\n",
              "      fill: #D2E3FC;\n",
              "    }\n",
              "\n",
              "    [theme=dark] .colab-df-convert:hover {\n",
              "      background-color: #434B5C;\n",
              "      box-shadow: 0px 1px 3px 1px rgba(0, 0, 0, 0.15);\n",
              "      filter: drop-shadow(0px 1px 2px rgba(0, 0, 0, 0.3));\n",
              "      fill: #FFFFFF;\n",
              "    }\n",
              "  </style>\n",
              "\n",
              "      <script>\n",
              "        const buttonEl =\n",
              "          document.querySelector('#df-79ea7ec4-0cb3-4473-b43a-1e3ccfe826cc button.colab-df-convert');\n",
              "        buttonEl.style.display =\n",
              "          google.colab.kernel.accessAllowed ? 'block' : 'none';\n",
              "\n",
              "        async function convertToInteractive(key) {\n",
              "          const element = document.querySelector('#df-79ea7ec4-0cb3-4473-b43a-1e3ccfe826cc');\n",
              "          const dataTable =\n",
              "            await google.colab.kernel.invokeFunction('convertToInteractive',\n",
              "                                                     [key], {});\n",
              "          if (!dataTable) return;\n",
              "\n",
              "          const docLinkHtml = 'Like what you see? Visit the ' +\n",
              "            '<a target=\"_blank\" href=https://colab.research.google.com/notebooks/data_table.ipynb>data table notebook</a>'\n",
              "            + ' to learn more about interactive tables.';\n",
              "          element.innerHTML = '';\n",
              "          dataTable['output_type'] = 'display_data';\n",
              "          await google.colab.output.renderOutput(dataTable, element);\n",
              "          const docLink = document.createElement('div');\n",
              "          docLink.innerHTML = docLinkHtml;\n",
              "          element.appendChild(docLink);\n",
              "        }\n",
              "      </script>\n",
              "    </div>\n",
              "  </div>\n",
              "  "
            ]
          },
          "metadata": {},
          "execution_count": 4
        }
      ],
      "source": [
        "# Drop the non-beneficial ID columns.\n",
        "new_df = df.drop(['waist(cm)', 'height(cm)', 'weight(kg)', 'eyesight(left)', 'eyesight(right)', 'hearing(left)', 'hearing(right)', 'Urine protein', 'dental caries', 'relaxation', 'AST', 'age', 'systolic'], axis=1)\n",
        "new_df.head()"
      ]
    },
    {
      "cell_type": "code",
      "execution_count": 5,
      "id": "3fd2c4a9",
      "metadata": {
        "id": "3fd2c4a9"
      },
      "outputs": [],
      "source": [
        "X = new_df.drop(columns=\"smoking\")\n",
        "y = pd.DataFrame(new_df[\"smoking\"])"
      ]
    },
    {
      "cell_type": "code",
      "execution_count": 6,
      "id": "366c8830",
      "metadata": {
        "colab": {
          "base_uri": "https://localhost:8080/",
          "height": 300
        },
        "id": "366c8830",
        "outputId": "f76ba349-b790-4ca9-f31c-b5080882ff65"
      },
      "outputs": [
        {
          "output_type": "execute_result",
          "data": {
            "text/plain": [
              "       fasting blood sugar   Cholesterol  triglyceride           HDL  \\\n",
              "count         38984.000000  38984.000000  38984.000000  38984.000000   \n",
              "mean             99.342269    196.883491    126.749461     57.293146   \n",
              "std              20.642741     36.353945     71.803143     14.617822   \n",
              "min              46.000000     55.000000      8.000000      4.000000   \n",
              "25%              89.000000    172.000000     74.000000     47.000000   \n",
              "50%              96.000000    195.000000    108.000000     55.000000   \n",
              "75%             104.000000    219.000000    160.000000     66.000000   \n",
              "max             423.000000    445.000000    999.000000    359.000000   \n",
              "\n",
              "                LDL    hemoglobin  serum creatinine           ALT  \\\n",
              "count  38984.000000  38984.000000      38984.000000  38984.000000   \n",
              "mean     115.081495     14.624264          0.886030     27.145188   \n",
              "std       42.883163      1.566528          0.220621     31.309945   \n",
              "min        1.000000      4.900000          0.100000      1.000000   \n",
              "25%       91.000000     13.600000          0.800000     15.000000   \n",
              "50%      113.000000     14.800000          0.900000     21.000000   \n",
              "75%      136.000000     15.800000          1.000000     31.000000   \n",
              "max     1860.000000     21.100000         11.600000   2914.000000   \n",
              "\n",
              "                Gtp  \n",
              "count  38984.000000  \n",
              "mean      39.905038  \n",
              "std       49.693843  \n",
              "min        2.000000  \n",
              "25%       17.000000  \n",
              "50%       26.000000  \n",
              "75%       44.000000  \n",
              "max      999.000000  "
            ],
            "text/html": [
              "\n",
              "  <div id=\"df-0968ef39-d5a7-4c20-9940-bc547c2df996\">\n",
              "    <div class=\"colab-df-container\">\n",
              "      <div>\n",
              "<style scoped>\n",
              "    .dataframe tbody tr th:only-of-type {\n",
              "        vertical-align: middle;\n",
              "    }\n",
              "\n",
              "    .dataframe tbody tr th {\n",
              "        vertical-align: top;\n",
              "    }\n",
              "\n",
              "    .dataframe thead th {\n",
              "        text-align: right;\n",
              "    }\n",
              "</style>\n",
              "<table border=\"1\" class=\"dataframe\">\n",
              "  <thead>\n",
              "    <tr style=\"text-align: right;\">\n",
              "      <th></th>\n",
              "      <th>fasting blood sugar</th>\n",
              "      <th>Cholesterol</th>\n",
              "      <th>triglyceride</th>\n",
              "      <th>HDL</th>\n",
              "      <th>LDL</th>\n",
              "      <th>hemoglobin</th>\n",
              "      <th>serum creatinine</th>\n",
              "      <th>ALT</th>\n",
              "      <th>Gtp</th>\n",
              "    </tr>\n",
              "  </thead>\n",
              "  <tbody>\n",
              "    <tr>\n",
              "      <th>count</th>\n",
              "      <td>38984.000000</td>\n",
              "      <td>38984.000000</td>\n",
              "      <td>38984.000000</td>\n",
              "      <td>38984.000000</td>\n",
              "      <td>38984.000000</td>\n",
              "      <td>38984.000000</td>\n",
              "      <td>38984.000000</td>\n",
              "      <td>38984.000000</td>\n",
              "      <td>38984.000000</td>\n",
              "    </tr>\n",
              "    <tr>\n",
              "      <th>mean</th>\n",
              "      <td>99.342269</td>\n",
              "      <td>196.883491</td>\n",
              "      <td>126.749461</td>\n",
              "      <td>57.293146</td>\n",
              "      <td>115.081495</td>\n",
              "      <td>14.624264</td>\n",
              "      <td>0.886030</td>\n",
              "      <td>27.145188</td>\n",
              "      <td>39.905038</td>\n",
              "    </tr>\n",
              "    <tr>\n",
              "      <th>std</th>\n",
              "      <td>20.642741</td>\n",
              "      <td>36.353945</td>\n",
              "      <td>71.803143</td>\n",
              "      <td>14.617822</td>\n",
              "      <td>42.883163</td>\n",
              "      <td>1.566528</td>\n",
              "      <td>0.220621</td>\n",
              "      <td>31.309945</td>\n",
              "      <td>49.693843</td>\n",
              "    </tr>\n",
              "    <tr>\n",
              "      <th>min</th>\n",
              "      <td>46.000000</td>\n",
              "      <td>55.000000</td>\n",
              "      <td>8.000000</td>\n",
              "      <td>4.000000</td>\n",
              "      <td>1.000000</td>\n",
              "      <td>4.900000</td>\n",
              "      <td>0.100000</td>\n",
              "      <td>1.000000</td>\n",
              "      <td>2.000000</td>\n",
              "    </tr>\n",
              "    <tr>\n",
              "      <th>25%</th>\n",
              "      <td>89.000000</td>\n",
              "      <td>172.000000</td>\n",
              "      <td>74.000000</td>\n",
              "      <td>47.000000</td>\n",
              "      <td>91.000000</td>\n",
              "      <td>13.600000</td>\n",
              "      <td>0.800000</td>\n",
              "      <td>15.000000</td>\n",
              "      <td>17.000000</td>\n",
              "    </tr>\n",
              "    <tr>\n",
              "      <th>50%</th>\n",
              "      <td>96.000000</td>\n",
              "      <td>195.000000</td>\n",
              "      <td>108.000000</td>\n",
              "      <td>55.000000</td>\n",
              "      <td>113.000000</td>\n",
              "      <td>14.800000</td>\n",
              "      <td>0.900000</td>\n",
              "      <td>21.000000</td>\n",
              "      <td>26.000000</td>\n",
              "    </tr>\n",
              "    <tr>\n",
              "      <th>75%</th>\n",
              "      <td>104.000000</td>\n",
              "      <td>219.000000</td>\n",
              "      <td>160.000000</td>\n",
              "      <td>66.000000</td>\n",
              "      <td>136.000000</td>\n",
              "      <td>15.800000</td>\n",
              "      <td>1.000000</td>\n",
              "      <td>31.000000</td>\n",
              "      <td>44.000000</td>\n",
              "    </tr>\n",
              "    <tr>\n",
              "      <th>max</th>\n",
              "      <td>423.000000</td>\n",
              "      <td>445.000000</td>\n",
              "      <td>999.000000</td>\n",
              "      <td>359.000000</td>\n",
              "      <td>1860.000000</td>\n",
              "      <td>21.100000</td>\n",
              "      <td>11.600000</td>\n",
              "      <td>2914.000000</td>\n",
              "      <td>999.000000</td>\n",
              "    </tr>\n",
              "  </tbody>\n",
              "</table>\n",
              "</div>\n",
              "      <button class=\"colab-df-convert\" onclick=\"convertToInteractive('df-0968ef39-d5a7-4c20-9940-bc547c2df996')\"\n",
              "              title=\"Convert this dataframe to an interactive table.\"\n",
              "              style=\"display:none;\">\n",
              "        \n",
              "  <svg xmlns=\"http://www.w3.org/2000/svg\" height=\"24px\"viewBox=\"0 0 24 24\"\n",
              "       width=\"24px\">\n",
              "    <path d=\"M0 0h24v24H0V0z\" fill=\"none\"/>\n",
              "    <path d=\"M18.56 5.44l.94 2.06.94-2.06 2.06-.94-2.06-.94-.94-2.06-.94 2.06-2.06.94zm-11 1L8.5 8.5l.94-2.06 2.06-.94-2.06-.94L8.5 2.5l-.94 2.06-2.06.94zm10 10l.94 2.06.94-2.06 2.06-.94-2.06-.94-.94-2.06-.94 2.06-2.06.94z\"/><path d=\"M17.41 7.96l-1.37-1.37c-.4-.4-.92-.59-1.43-.59-.52 0-1.04.2-1.43.59L10.3 9.45l-7.72 7.72c-.78.78-.78 2.05 0 2.83L4 21.41c.39.39.9.59 1.41.59.51 0 1.02-.2 1.41-.59l7.78-7.78 2.81-2.81c.8-.78.8-2.07 0-2.86zM5.41 20L4 18.59l7.72-7.72 1.47 1.35L5.41 20z\"/>\n",
              "  </svg>\n",
              "      </button>\n",
              "      \n",
              "  <style>\n",
              "    .colab-df-container {\n",
              "      display:flex;\n",
              "      flex-wrap:wrap;\n",
              "      gap: 12px;\n",
              "    }\n",
              "\n",
              "    .colab-df-convert {\n",
              "      background-color: #E8F0FE;\n",
              "      border: none;\n",
              "      border-radius: 50%;\n",
              "      cursor: pointer;\n",
              "      display: none;\n",
              "      fill: #1967D2;\n",
              "      height: 32px;\n",
              "      padding: 0 0 0 0;\n",
              "      width: 32px;\n",
              "    }\n",
              "\n",
              "    .colab-df-convert:hover {\n",
              "      background-color: #E2EBFA;\n",
              "      box-shadow: 0px 1px 2px rgba(60, 64, 67, 0.3), 0px 1px 3px 1px rgba(60, 64, 67, 0.15);\n",
              "      fill: #174EA6;\n",
              "    }\n",
              "\n",
              "    [theme=dark] .colab-df-convert {\n",
              "      background-color: #3B4455;\n",
              "      fill: #D2E3FC;\n",
              "    }\n",
              "\n",
              "    [theme=dark] .colab-df-convert:hover {\n",
              "      background-color: #434B5C;\n",
              "      box-shadow: 0px 1px 3px 1px rgba(0, 0, 0, 0.15);\n",
              "      filter: drop-shadow(0px 1px 2px rgba(0, 0, 0, 0.3));\n",
              "      fill: #FFFFFF;\n",
              "    }\n",
              "  </style>\n",
              "\n",
              "      <script>\n",
              "        const buttonEl =\n",
              "          document.querySelector('#df-0968ef39-d5a7-4c20-9940-bc547c2df996 button.colab-df-convert');\n",
              "        buttonEl.style.display =\n",
              "          google.colab.kernel.accessAllowed ? 'block' : 'none';\n",
              "\n",
              "        async function convertToInteractive(key) {\n",
              "          const element = document.querySelector('#df-0968ef39-d5a7-4c20-9940-bc547c2df996');\n",
              "          const dataTable =\n",
              "            await google.colab.kernel.invokeFunction('convertToInteractive',\n",
              "                                                     [key], {});\n",
              "          if (!dataTable) return;\n",
              "\n",
              "          const docLinkHtml = 'Like what you see? Visit the ' +\n",
              "            '<a target=\"_blank\" href=https://colab.research.google.com/notebooks/data_table.ipynb>data table notebook</a>'\n",
              "            + ' to learn more about interactive tables.';\n",
              "          element.innerHTML = '';\n",
              "          dataTable['output_type'] = 'display_data';\n",
              "          await google.colab.output.renderOutput(dataTable, element);\n",
              "          const docLink = document.createElement('div');\n",
              "          docLink.innerHTML = docLinkHtml;\n",
              "          element.appendChild(docLink);\n",
              "        }\n",
              "      </script>\n",
              "    </div>\n",
              "  </div>\n",
              "  "
            ]
          },
          "metadata": {},
          "execution_count": 6
        }
      ],
      "source": [
        "X.describe()"
      ]
    },
    {
      "cell_type": "code",
      "execution_count": 7,
      "id": "f2c0cb47",
      "metadata": {
        "colab": {
          "base_uri": "https://localhost:8080/"
        },
        "id": "f2c0cb47",
        "outputId": "a5d20219-141b-4cc6-8399-6f317e68cee0"
      },
      "outputs": [
        {
          "output_type": "execute_result",
          "data": {
            "text/plain": [
              "0    24666\n",
              "1    14318\n",
              "Name: smoking, dtype: int64"
            ]
          },
          "metadata": {},
          "execution_count": 7
        }
      ],
      "source": [
        "y['smoking'].value_counts()"
      ]
    },
    {
      "cell_type": "code",
      "execution_count": 8,
      "id": "1d15e1b7",
      "metadata": {
        "colab": {
          "base_uri": "https://localhost:8080/"
        },
        "id": "1d15e1b7",
        "outputId": "bf25ddea-fff0-4f59-fdc2-fa1c15ba57f9"
      },
      "outputs": [
        {
          "output_type": "execute_result",
          "data": {
            "text/plain": [
              "(29238, 9)"
            ]
          },
          "metadata": {},
          "execution_count": 8
        }
      ],
      "source": [
        "from collections import Counter\n",
        "from sklearn.model_selection import train_test_split\n",
        "\n",
        "X_train, X_test, y_train, y_test = train_test_split(X, \n",
        "                                                    y, \n",
        "                                                    random_state=1)\n",
        "\n",
        "scaler = StandardScaler()\n",
        "X_scaler = scaler.fit(X_train)\n",
        "X_train_scaled = X_scaler.transform(X_train)\n",
        "X_test_scaled = X_scaler.transform(X_test)\n",
        "X_train.shape"
      ]
    },
    {
      "cell_type": "code",
      "execution_count": 9,
      "id": "6a6b9933",
      "metadata": {
        "colab": {
          "base_uri": "https://localhost:8080/"
        },
        "id": "6a6b9933",
        "outputId": "93bd961f-2ca0-447f-93ea-df670046a5ff"
      },
      "outputs": [
        {
          "output_type": "stream",
          "name": "stdout",
          "text": [
            "(29238, 9)\n",
            "(9746, 9)\n",
            "(29238, 1)\n",
            "(9746, 1)\n"
          ]
        }
      ],
      "source": [
        "print(X_train.shape)\n",
        "print(X_test.shape)\n",
        "print(y_train.shape)\n",
        "print(y_test.shape)"
      ]
    },
    {
      "cell_type": "code",
      "execution_count": 10,
      "id": "b2640752",
      "metadata": {
        "colab": {
          "base_uri": "https://localhost:8080/"
        },
        "id": "b2640752",
        "outputId": "8385f359-405c-4790-909e-3121e010941b"
      },
      "outputs": [
        {
          "output_type": "execute_result",
          "data": {
            "text/plain": [
              "Counter({'smoking': 1})"
            ]
          },
          "metadata": {},
          "execution_count": 10
        }
      ],
      "source": [
        "Counter(y_train)"
      ]
    },
    {
      "cell_type": "code",
      "execution_count": 11,
      "id": "f6d45211",
      "metadata": {
        "id": "f6d45211"
      },
      "outputs": [],
      "source": [
        "from imblearn.ensemble import BalancedRandomForestClassifier\n",
        "from sklearn.datasets import make_classification"
      ]
    },
    {
      "cell_type": "code",
      "execution_count": 12,
      "id": "189d67b3",
      "metadata": {
        "colab": {
          "base_uri": "https://localhost:8080/"
        },
        "id": "189d67b3",
        "outputId": "a4c0e496-5f33-47bf-af0e-17673be8314b"
      },
      "outputs": [
        {
          "output_type": "execute_result",
          "data": {
            "text/plain": [
              "BalancedRandomForestClassifier(max_depth=32, n_estimators=80, random_state=1)"
            ]
          },
          "metadata": {},
          "execution_count": 12
        }
      ],
      "source": [
        "from imblearn.ensemble import BalancedRandomForestClassifier\n",
        "brf = BalancedRandomForestClassifier(n_estimators=80, max_depth=32, random_state=1)\n",
        "brf"
      ]
    },
    {
      "cell_type": "code",
      "execution_count": 13,
      "id": "32591810",
      "metadata": {
        "colab": {
          "base_uri": "https://localhost:8080/"
        },
        "id": "32591810",
        "outputId": "f3682981-3668-4dc1-e062-dae14fcb4c35"
      },
      "outputs": [
        {
          "output_type": "stream",
          "name": "stderr",
          "text": [
            "<ipython-input-13-aff86d4fa7d9>:1: DataConversionWarning: A column-vector y was passed when a 1d array was expected. Please change the shape of y to (n_samples,), for example using ravel().\n",
            "  brf.fit(X_train_scaled, y_train)\n"
          ]
        }
      ],
      "source": [
        "brf.fit(X_train_scaled, y_train)\n",
        "y_pred = brf.predict(X_test_scaled)"
      ]
    },
    {
      "cell_type": "code",
      "source": [
        "rf = BalancedRandomForestClassifier()\n",
        "parameters = {\n",
        "    \"n_estimators\": [5, 20, 40, 80, 100, 200],\n",
        "    \"max_depth\": [2, 4, 8, 16, 32, None]\n",
        "}\n",
        "\n",
        "cv = GridSearchCV(rf, parameters, cv=5)\n",
        "cv.fit(X_train.values, y_train.values.ravel())"
      ],
      "metadata": {
        "colab": {
          "base_uri": "https://localhost:8080/"
        },
        "id": "yhN9yTU6lJq9",
        "outputId": "584babf6-2451-46a5-f30e-d35712a5c340"
      },
      "id": "yhN9yTU6lJq9",
      "execution_count": 14,
      "outputs": [
        {
          "output_type": "execute_result",
          "data": {
            "text/plain": [
              "GridSearchCV(cv=5, estimator=BalancedRandomForestClassifier(),\n",
              "             param_grid={'max_depth': [2, 4, 8, 16, 32, None],\n",
              "                         'n_estimators': [5, 20, 40, 80, 100, 200]})"
            ]
          },
          "metadata": {},
          "execution_count": 14
        }
      ]
    },
    {
      "cell_type": "code",
      "source": [
        "print(cv.best_params_)"
      ],
      "metadata": {
        "colab": {
          "base_uri": "https://localhost:8080/"
        },
        "id": "HPp15s9ArMOw",
        "outputId": "b0f91d8c-ad22-436e-d3a6-4be69f9b1fe4"
      },
      "id": "HPp15s9ArMOw",
      "execution_count": 15,
      "outputs": [
        {
          "output_type": "stream",
          "name": "stdout",
          "text": [
            "{'max_depth': 32, 'n_estimators': 200}\n"
          ]
        }
      ]
    },
    {
      "cell_type": "code",
      "execution_count": 16,
      "id": "12e57714",
      "metadata": {
        "colab": {
          "base_uri": "https://localhost:8080/"
        },
        "id": "12e57714",
        "outputId": "a662fb5a-7fe8-43f9-d905-c6bfd06bcb2f"
      },
      "outputs": [
        {
          "output_type": "execute_result",
          "data": {
            "text/plain": [
              "array([1, 1, 1, ..., 0, 1, 0])"
            ]
          },
          "metadata": {},
          "execution_count": 16
        }
      ],
      "source": [
        "# Calculated the balanced accuracy score\n",
        "from sklearn.metrics import balanced_accuracy_score\n",
        "y_pred = brf.predict(X_test_scaled)\n",
        "y_pred"
      ]
    },
    {
      "cell_type": "code",
      "execution_count": 17,
      "id": "480a543b",
      "metadata": {
        "colab": {
          "base_uri": "https://localhost:8080/"
        },
        "id": "480a543b",
        "outputId": "08f82f47-c1b7-455d-8b65-ccb596ba1410"
      },
      "outputs": [
        {
          "output_type": "execute_result",
          "data": {
            "text/plain": [
              "0.7789626620803578"
            ]
          },
          "metadata": {},
          "execution_count": 17
        }
      ],
      "source": [
        "balanced_accuracy_score(y_test, y_pred)"
      ]
    },
    {
      "cell_type": "code",
      "execution_count": 18,
      "id": "187ffb80",
      "metadata": {
        "colab": {
          "base_uri": "https://localhost:8080/"
        },
        "id": "187ffb80",
        "outputId": "b8b2ac13-70a1-432f-9826-31858689dc65"
      },
      "outputs": [
        {
          "output_type": "execute_result",
          "data": {
            "text/plain": [
              "array([[4507, 1685],\n",
              "       [ 604, 2950]])"
            ]
          },
          "metadata": {},
          "execution_count": 18
        }
      ],
      "source": [
        "# Display the confusion matrix\n",
        "from sklearn.metrics import confusion_matrix\n",
        "y_pred = brf.predict(X_test_scaled)\n",
        "confusion_matrix(y_test, y_pred)"
      ]
    },
    {
      "cell_type": "code",
      "execution_count": 19,
      "id": "73ef34e0",
      "metadata": {
        "colab": {
          "base_uri": "https://localhost:8080/"
        },
        "id": "73ef34e0",
        "outputId": "03aa67bf-669f-497c-ff50-68a55c2600b1"
      },
      "outputs": [
        {
          "output_type": "stream",
          "name": "stdout",
          "text": [
            "                   pre       rec       spe        f1       geo       iba       sup\n",
            "\n",
            "          0       0.88      0.73      0.83      0.80      0.78      0.60      6192\n",
            "          1       0.64      0.83      0.73      0.72      0.78      0.61      3554\n",
            "\n",
            "avg / total       0.79      0.77      0.79      0.77      0.78      0.60      9746\n",
            "\n"
          ]
        }
      ],
      "source": [
        "# Print the imbalanced classification report\n",
        "from imblearn.metrics import classification_report_imbalanced\n",
        "print(classification_report_imbalanced(y_test, y_pred))"
      ]
    },
    {
      "cell_type": "code",
      "execution_count": 20,
      "id": "0f8c6ee5",
      "metadata": {
        "colab": {
          "base_uri": "https://localhost:8080/"
        },
        "id": "0f8c6ee5",
        "outputId": "4959c0a0-f714-487b-a72e-422cf67578a6"
      },
      "outputs": [
        {
          "output_type": "execute_result",
          "data": {
            "text/plain": [
              "[(0.2043501165778167, 'hemoglobin'),\n",
              " (0.14933503183156338, 'Gtp'),\n",
              " (0.1164424964058854, 'triglyceride'),\n",
              " (0.09255311843824574, 'Cholesterol'),\n",
              " (0.09207014708137856, 'LDL'),\n",
              " (0.08938644249434904, 'ALT'),\n",
              " (0.08929703862385782, 'HDL'),\n",
              " (0.08784363190708158, 'fasting blood sugar'),\n",
              " (0.0787219766398218, 'serum creatinine')]"
            ]
          },
          "metadata": {},
          "execution_count": 20
        }
      ],
      "source": [
        "# List the features sorted in descending order by feature importance\n",
        "importances = brf.feature_importances_\n",
        "importances\n",
        "sorted(zip(brf.feature_importances_, X.columns), reverse=True)"
      ]
    },
    {
      "cell_type": "code",
      "execution_count": 21,
      "id": "780687cb",
      "metadata": {
        "id": "780687cb",
        "colab": {
          "base_uri": "https://localhost:8080/"
        },
        "outputId": "5e681eef-9be8-40bd-866d-ccfc0c63a20e"
      },
      "outputs": [
        {
          "output_type": "execute_result",
          "data": {
            "text/plain": [
              "0.7144759189703636"
            ]
          },
          "metadata": {},
          "execution_count": 21
        }
      ],
      "source": [
        "from sklearn.ensemble import GradientBoostingClassifier\n",
        "\n",
        "xgb = GradientBoostingClassifier()\n",
        "\n",
        "xgb.fit(X_train_scaled, y_train.values.ravel())\n",
        "y_pd = xgb.predict(X_test_scaled)\n",
        "balanced_accuracy_score(y_test, y_pd)\n"
      ]
    }
  ],
  "metadata": {
    "kernelspec": {
      "display_name": "mlenv",
      "language": "python",
      "name": "mlenv"
    },
    "language_info": {
      "codemirror_mode": {
        "name": "ipython",
        "version": 3
      },
      "file_extension": ".py",
      "mimetype": "text/x-python",
      "name": "python",
      "nbconvert_exporter": "python",
      "pygments_lexer": "ipython3",
      "version": "3.7.15"
    },
    "colab": {
      "provenance": []
    }
  },
  "nbformat": 4,
  "nbformat_minor": 5
}